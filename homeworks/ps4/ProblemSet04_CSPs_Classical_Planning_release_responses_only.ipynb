{
 "cells": [
  {
   "cell_type": "markdown",
   "id": "ac43631f",
   "metadata": {},
   "source": [
    "## <a name=\"contributors\"></a> 0. Credit for Contributors\n",
    "\n",
    "List the various students, lecture notes, or online resouces that helped you complete this problem set:\n",
    "\n",
    "Ex: I worked with Bob on the cat activity planning problem.\n",
    "\n",
    "<div class=\"alert alert-info\">\n",
    "Write your answer in the cell below this one.\n",
    "</div>"
   ]
  },
  {
   "cell_type": "markdown",
   "id": "c319d597",
   "metadata": {},
   "source": [
    "Looked at lecture notes and asked chatGPT for help with understanding concepts."
   ]
  },
  {
   "cell_type": "markdown",
   "id": "c476159b",
   "metadata": {},
   "source": [
    "**Now answer the following questions:**\n",
    "1. How do the curves differ across algorithms? Which one scales worst, and which scales best?  \n",
    "2. Why does forward checking give larger benefits on N-Queens than on Australia?  \n",
    "\n",
    "<div class=\"alert alert-info\">\n",
    "Write your answer in the cell below this one.\n",
    "</div>"
   ]
  },
  {
   "cell_type": "markdown",
   "id": "486ced58",
   "metadata": {},
   "source": [
    "1. Naive search scales exponentially and is the worst. Backtracking is way better since it prunes early. Forward checking is the best because it eliminates inconsistent values from future variables before even trying them.\n",
    "\n",
    "2. N-Queens has way more constraints - each queen affects many others through column and diagonal constraints. When you place a queen, forward checking eliminates tons of invalid positions for the remaining queens. Australia map only has sparse neighbor constraints, so there's less to prune."
   ]
  }
 ],
 "metadata": {},
 "nbformat": 4,
 "nbformat_minor": 5
}
