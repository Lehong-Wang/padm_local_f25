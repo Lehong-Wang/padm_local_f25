{
 "cells": [
  {
   "cell_type": "markdown",
   "id": "f146e82a",
   "metadata": {},
   "source": [
    "**This problem set is due Wednesday, October 8, 2025 at 11:59 pm. Please plan ahead and submit your work on time.**"
   ]
  },
  {
   "cell_type": "markdown",
   "id": "251e8452",
   "metadata": {
    "id": "251e8452"
   },
   "source": [
    "## Problem Set 04: CSPs and Classical Planning \n",
    "\n",
    "In this problem set, you will explore CSPs and classical planning. \n",
    "\n",
    "0. [Credit for Contributors (required)](#contributors)\n",
    "1. [CSPs (55 points)](#csps)\n",
    "    1. [Naive Search with Variable Ordering (15 points)](#naive_search)\n",
    "    2. [Backtracking Search (10 points)](#backtracking_search)\n",
    "    3. [Forward Checking (20 points)](#forward_checking)\n",
    "    4. [Comparing Algorithms in N-Queens (10 points)](#comparison)\n",
    "2. [Local Search for CSPs (20 points)](#local_search)\n",
    "3. [Classical Planning (25 points)](#classical_planning)\n",
    "    1. [Warming up with Pyperplan (5 points)](#warmup)\n",
    "    2. [Fill in the Blanks (10 points)](#pddl)\n",
    "    3. [Planning Heuristics (10 points)](#heuristics)\n",
    "4. [Time Spent on Pset (Bonus +5 points)](#part4)\n",
    "    \n",
    "**100 points + 5 bonus** total for Problem Set 4"
   ]
  },
  {
   "cell_type": "markdown",
   "id": "e6457164",
   "metadata": {
    "id": "e6457164"
   },
   "source": [
    "## Imports and Utilities"
   ]
  },
  {
   "cell_type": "code",
   "execution_count": 1,
   "id": "969092d9",
   "metadata": {
    "id": "969092d9"
   },
   "outputs": [],
   "source": [
    "from __future__ import annotations\n",
    "import numpy as np\n",
    "import sympy\n",
    "from typing import Dict, List, Tuple, Optional, Deque, Set\n",
    "from collections import deque\n",
    "import copy\n",
    "import matplotlib.pyplot as plt\n",
    "\n",
    "%load_ext autoreload\n",
    "%autoreload 2\n",
    "from principles_of_autonomy.grader import Grader\n",
    "from principles_of_autonomy.notebook_tests.pset_4 import TestPSet4"
   ]
  },
  {
   "cell_type": "markdown",
   "id": "ac43631f",
   "metadata": {},
   "source": [
    "## <a name=\"contributors\"></a> 0. Credit for Contributors\n",
    "\n",
    "List the various students, lecture notes, or online resouces that helped you complete this problem set:\n",
    "\n",
    "Ex: I worked with Bob on the cat activity planning problem.\n",
    "\n",
    "<div class=\"alert alert-info\">\n",
    "Write your answer in the cell below this one.\n",
    "</div>"
   ]
  },
  {
   "cell_type": "markdown",
   "id": "c319d597",
   "metadata": {},
   "source": [
    "Looked at lecture notes and asked chatGPT for help with understanding concepts."
   ]
  },
  {
   "cell_type": "markdown",
   "id": "8eae733c",
   "metadata": {},
   "source": [
    "## <a name=\"csps\"></a> 1. CSPs (55 points)\n",
    "\n",
    "In the first problem, you will implement CSP solvers: naive search with variable ordering, backtracking search, and forward checking. You will compare the performance of these 3 algorithms in the Australia map coloring problem and the N-Queens problem. \n",
    "\n",
    "We’ll use a tiny CSP framework for this pset:\n",
    "\n",
    "- `BinaryConstraint(x, y, pred)`: a binary constraint between variables `x` and `y`, satisfied when `pred(value_x, value_y)` is `True`.\n",
    "- `CSP(variables, domains)`: keeps track of variables, domains, constraints, and adjacency (`neighbors`).\n",
    "- Helper builders:\n",
    "  - `australia_map_coloring()` (regions & 3 colors)\n",
    "  - `australia_map_coloring_impossible()` (regions & only 2 colors)\n",
    "  - `n_queens_csp(n)` (rows as variables; values are columns)\n",
    "- Helpers:\n",
    "  - `is_complete_and_valid(csp, assignment)` to verify solutions\n",
    "  - `plot_australia_coloring(...)` and `plot_n_queens(...)` for quick visualization\n",
    "\n",
    "Below we provide these classes and helper functions, which you should have a look at. Read the docstrings; you shouldn’t need to change these helpers.\n"
   ]
  },
  {
   "cell_type": "code",
   "execution_count": 2,
   "id": "94c26a69",
   "metadata": {},
   "outputs": [],
   "source": [
    "# ---------- Binary constraint & CSP class definitions ----------\n",
    "\n",
    "class BinaryConstraint:\n",
    "    \"\"\"\n",
    "    A binary constraint between two variables, defined by a predicate.\n",
    "\n",
    "    Attributes:\n",
    "      x, y: variable names\n",
    "      pred: a function (x_val, y_val) -> bool\n",
    "\n",
    "    Methods:\n",
    "      satisfied(assignment):\n",
    "        - assignment (dict): mapping of {x: value_1, y: value_2}\n",
    "        - If either x or y is unassigned (not in assignment dict), returns True.\n",
    "        - Otherwise, checks pred on the assigned values.\n",
    "    \"\"\"\n",
    "    def __init__(self, x, y, pred):\n",
    "        self.x, self.y, self.pred = x, y, pred\n",
    "        self.scope = [x, y]\n",
    "\n",
    "    def satisfied(self, assignment):\n",
    "        x_assigned = self.x in assignment\n",
    "        y_assigned = self.y in assignment\n",
    "        if not (x_assigned and y_assigned):\n",
    "            return True\n",
    "        return self.pred(assignment[self.x], assignment[self.y]) \n",
    "    \n",
    "class CSP:\n",
    "    \"\"\"\n",
    "    A minimal container for binary constraint satisfaction problems.\n",
    "\n",
    "    Attributes:\n",
    "      variables (list): variable names (str or int)\n",
    "      domains (dict): var -> list of allowed values\n",
    "      constraints (dict): var -> list of BinaryConstraint objects mentioning var\n",
    "      neighbors (dict): var -> set of neighboring vars\n",
    "\n",
    "    Methods:\n",
    "      add_constraint(c): adds a constraint to the problem\n",
    "      is_consistent(var, assignment): check only constraints that involve 'var'\n",
    "    \"\"\"\n",
    "    def __init__(self, variables, domains):\n",
    "        self.variables = list(variables)\n",
    "        self.domains = {v: list(domains[v]) for v in variables}\n",
    "        self.constraints = {v: [] for v in variables}\n",
    "        self.neighbors = {v: set() for v in variables}\n",
    "\n",
    "    def add_constraint(self, c):\n",
    "        \"\"\"Register a constraint and update neighbor sets.\"\"\"\n",
    "        for v in c.scope:\n",
    "            assert v in self.variables, f\"Unknown variable {v}\"\n",
    "            self.constraints[v].append(c)\n",
    "        a, b = c.scope\n",
    "        self.neighbors[a].add(b)\n",
    "        self.neighbors[b].add(a)\n",
    "\n",
    "    def is_consistent(self, var, assignment):\n",
    "        \"\"\"Return True iff all constraints involving var are satisfied by assignment.\"\"\"\n",
    "        return all(c.satisfied(assignment) for c in self.constraints[var])\n",
    "\n",
    "# ---------- Australia map instances ----------\n",
    "\n",
    "def australia_map_coloring():\n",
    "    \"\"\"\n",
    "    Construct the classic Australia map-coloring CSP.\n",
    "\n",
    "    Variables:\n",
    "      WA, NT, SA, Q, NSW, V, T\n",
    "\n",
    "    Domains:\n",
    "      {red, green, blue} for each region\n",
    "\n",
    "    Constraints:\n",
    "      Adjacent regions must have different colors.\n",
    "\n",
    "    Returns:\n",
    "      CSP object\n",
    "    \"\"\"\n",
    "    regions = [\"WA\", \"NT\", \"SA\", \"Q\", \"NSW\", \"V\", \"T\"]\n",
    "    colors = [\"red\", \"green\", \"blue\"]\n",
    "    domains = {r: colors[:] for r in regions}\n",
    "    csp = CSP(regions, domains)\n",
    "    edges = [\n",
    "        (\"WA\", \"NT\"), (\"WA\", \"SA\"),\n",
    "        (\"NT\", \"SA\"), (\"NT\", \"Q\"),\n",
    "        (\"SA\", \"Q\"), (\"SA\", \"NSW\"), (\"SA\", \"V\"),\n",
    "        (\"Q\", \"NSW\"),\n",
    "        (\"NSW\", \"V\")\n",
    "    ]\n",
    "    neq = lambda a, b: a != b\n",
    "    for a, b in edges:\n",
    "        csp.add_constraint(BinaryConstraint(a, b, neq))\n",
    "        csp.add_constraint(BinaryConstraint(b, a, neq))\n",
    "    return csp\n",
    "\n",
    "def australia_map_coloring_impossible():\n",
    "    \"\"\"\n",
    "    Construct the classic Australia map-coloring CSP,\n",
    "    but with only 2 colors, which makes the problem \n",
    "    impossible to solve\n",
    "\n",
    "    Variables:\n",
    "      WA, NT, SA, Q, NSW, V, T\n",
    "\n",
    "    Domains:\n",
    "      {red, blue} for each region\n",
    "\n",
    "    Constraints:\n",
    "      Adjacent regions must have different colors.\n",
    "\n",
    "    Returns:\n",
    "      CSP object\n",
    "    \"\"\"\n",
    "    regions = [\"WA\", \"NT\", \"SA\", \"Q\", \"NSW\", \"V\", \"T\"]\n",
    "    colors = [\"red\", \"blue\"]\n",
    "    domains = {r: colors[:] for r in regions}\n",
    "    csp = CSP(regions, domains)\n",
    "    edges = [\n",
    "        (\"WA\", \"NT\"), (\"WA\", \"SA\"),\n",
    "        (\"NT\", \"SA\"), (\"NT\", \"Q\"),\n",
    "        (\"SA\", \"Q\"), (\"SA\", \"NSW\"), (\"SA\", \"V\"),\n",
    "        (\"Q\", \"NSW\"),\n",
    "        (\"NSW\", \"V\")\n",
    "    ]\n",
    "    neq = lambda a, b: a != b\n",
    "    for a, b in edges:\n",
    "        csp.add_constraint(BinaryConstraint(a, b, neq))\n",
    "        csp.add_constraint(BinaryConstraint(b, a, neq))\n",
    "    return csp\n",
    "\n",
    "# ---------- N-Queens instance ----------\n",
    "\n",
    "def n_queens_csp(n):\n",
    "    \"\"\"\n",
    "    Construct an N-Queens CSP where:\n",
    "      - Variables: rows 0..n-1\n",
    "      - Domains: columns 0..n-1 for each row\n",
    "      - Constraints:\n",
    "          * no two queens share the same column\n",
    "          * no two queens share the same diagonal\n",
    "\n",
    "    Returns:\n",
    "      CSP object\n",
    "    \"\"\"\n",
    "    rows = list(range(n))                     # each row is a variable\n",
    "    domains = {r: list(range(n)) for r in rows}  # possible columns for the queen\n",
    "    csp = CSP(rows, domains)\n",
    "\n",
    "    for i in range(n):\n",
    "        for j in range(i + 1, n):\n",
    "            # same column check\n",
    "            csp.add_constraint(BinaryConstraint(i, j, lambda ci, cj: ci != cj))\n",
    "            # diagonal check\n",
    "            d = j - i\n",
    "            csp.add_constraint(BinaryConstraint(i, j, lambda ci, cj, d=d: abs(ci - cj) != d))\n",
    "    return csp\n",
    "\n",
    "# ---------- Solution checker ----------\n",
    "\n",
    "def is_complete_and_valid(csp, assignment):\n",
    "    \"\"\"\n",
    "    Check whether an assignment is complete and satisfies all constraints.\n",
    "\n",
    "    Args:\n",
    "      csp (CSP)\n",
    "      assignment (dict): var -> value\n",
    "\n",
    "    Returns:\n",
    "      bool\n",
    "    \"\"\"\n",
    "    if set(assignment.keys()) != set(csp.variables):\n",
    "        return False\n",
    "    for v in csp.variables:\n",
    "        for c in csp.constraints[v]:\n",
    "            if not c.satisfied(assignment):\n",
    "                return False\n",
    "    return True\n",
    "\n",
    "# ---------- Plotting helpers ----------\n",
    "\n",
    "def plot_australia_coloring(assignment, figsize=(6, 6)):\n",
    "    \"\"\"\n",
    "    Visualize a map-coloring assignment for Australia.\n",
    "\n",
    "    Args:\n",
    "      assignment (dict): var -> color\n",
    "      figsize (tuple): figure size\n",
    "\n",
    "    Regions without an assignment are shown in gray.\n",
    "    \"\"\"\n",
    "\n",
    "    pos = {\n",
    "        \"WA\":  (0.2, 0.5),\n",
    "        \"NT\":  (0.55, 0.7),\n",
    "        \"SA\":  (0.55, 0.5),\n",
    "        \"Q\":   (0.85, 0.65),\n",
    "        \"NSW\": (0.8, 0.45),\n",
    "        \"V\":   (0.75, 0.25),\n",
    "        \"T\":   (0.65, 0.05),\n",
    "    }\n",
    "    edges = [\n",
    "        (\"WA\", \"NT\"), (\"WA\", \"SA\"),\n",
    "        (\"NT\", \"SA\"), (\"NT\", \"Q\"),\n",
    "        (\"SA\", \"Q\"), (\"SA\", \"NSW\"), (\"SA\", \"V\"),\n",
    "        (\"Q\", \"NSW\"), (\"NSW\", \"V\")\n",
    "    ]\n",
    "\n",
    "    fig, ax = plt.subplots(figsize=figsize)\n",
    "    ax.set_aspect('equal'); ax.axis('off')\n",
    "\n",
    "    for a, b in edges:\n",
    "        xa, ya = pos[a]; xb, yb = pos[b]\n",
    "        ax.plot([xa, xb], [ya, yb], lw=1.5, alpha=0.7)\n",
    "\n",
    "    for v, (x, y) in pos.items():\n",
    "        color = assignment.get(v, \"lightgray\")\n",
    "        circ = plt.Circle((x, y), 0.06, ec=\"black\", fc=color, lw=1.5)\n",
    "        ax.add_patch(circ)\n",
    "        ax.text(x, y, v, ha=\"center\", va=\"center\", fontsize=11,\n",
    "                color=\"white\" if color != \"yellow\" else \"black\", weight=\"bold\")\n",
    "\n",
    "    ax.set_title(\"Australia Map Coloring\")\n",
    "    plt.show()\n",
    "    \n",
    "def plot_n_queens(assignment, n=None, figsize=(6, 6), invert_rows=False):\n",
    "    \"\"\"\n",
    "    Visualize an N-Queens assignment.\n",
    "\n",
    "    Args:\n",
    "      assignment (dict[int, int]): {row -> column}, can be partial\n",
    "      n (int): board size; if None, inferred from assignment\n",
    "      figsize (tuple): matplotlib figure size\n",
    "      invert_rows (bool): show row 0 at the top if True\n",
    "    \"\"\"\n",
    "\n",
    "    if n is None:\n",
    "        if assignment:\n",
    "            n = max(max(assignment.keys(), default=0),\n",
    "                    max(assignment.values(), default=0)) + 1\n",
    "        else:\n",
    "            raise ValueError(\"Provide n when assignment is empty.\")\n",
    "\n",
    "    fig, ax = plt.subplots(figsize=figsize)\n",
    "    ax.set_xlim(0, n); ax.set_ylim(0, n)\n",
    "    ax.set_aspect('equal')\n",
    "    ax.set_xticks(range(n)); ax.set_yticks(range(n))\n",
    "    ax.set_xticklabels(range(n)); ax.set_yticklabels(range(n))\n",
    "    ax.set_xlabel(\"column\"); ax.set_ylabel(\"row\")\n",
    "    ax.set_title(f\"{n}-Queens\")\n",
    "\n",
    "    light, dark = \"#EEEAE6\", \"#6B6B6B\"\n",
    "    for r in range(n):\n",
    "        for c in range(n):\n",
    "            color = light if (r + c) % 2 == 0 else dark\n",
    "            rect = plt.Rectangle((c, r), 1, 1, facecolor=color, edgecolor=\"black\", linewidth=0.5)\n",
    "            ax.add_patch(rect)\n",
    "\n",
    "    # place queens (assignment: row -> column)\n",
    "    for r, c in assignment.items():\n",
    "        if 0 <= r < n and 0 <= c < n:\n",
    "            x, y = c + 0.5, r + 0.5\n",
    "            try:\n",
    "                ax.text(x, y, \"♛\", ha=\"center\", va=\"center\", fontsize=28, color=\"crimson\")\n",
    "            except Exception:\n",
    "                ax.text(x, y, \"Q\", ha=\"center\", va=\"center\", fontsize=18, color=\"crimson\")\n",
    "\n",
    "    if invert_rows:\n",
    "        ax.invert_yaxis()\n",
    "\n",
    "    border = plt.Rectangle((0, 0), n, n, fill=False, edgecolor=\"black\", linewidth=2)\n",
    "    ax.add_patch(border)\n",
    "\n",
    "    plt.show()"
   ]
  },
  {
   "cell_type": "markdown",
   "id": "3c0c7403",
   "metadata": {},
   "source": [
    "Below we create the Australia CSP and pass a **known-valid** assignment to the checker and plotter. This is here so you can see the data structures and visual output format you’ll use throughout Part 1. Feel free to tweak colors to verify constraint violations are detected. Note that the colors ARE case-sensitive (i.e., \"red\" != \"Red\")."
   ]
  },
  {
   "cell_type": "code",
   "execution_count": 3,
   "id": "3c94e37c",
   "metadata": {},
   "outputs": [
    {
     "name": "stdout",
     "output_type": "stream",
     "text": [
      "Variables: ['WA', 'NT', 'SA', 'Q', 'NSW', 'V', 'T']\n",
      "Domains: {'WA': ['red', 'green', 'blue'], 'NT': ['red', 'green', 'blue'], 'SA': ['red', 'green', 'blue'], 'Q': ['red', 'green', 'blue'], 'NSW': ['red', 'green', 'blue'], 'V': ['red', 'green', 'blue'], 'T': ['red', 'green', 'blue']}\n",
      "Neighbors of SA: {'NT', 'Q', 'WA', 'NSW', 'V'}\n",
      "Valid? True\n"
     ]
    },
    {
     "data": {
      "image/png": "[encoded data removed]",
      "text/plain": [
       "<Figure size 600x600 with 1 Axes>"
      ]
     },
     "metadata": {},
     "output_type": "display_data"
    }
   ],
   "source": [
    "csp = australia_map_coloring()\n",
    "\n",
    "# EXAMPLE 1: a VALID solution assignment\n",
    "assignment_valid = {\n",
    "    \"WA\":  \"red\",\n",
    "    \"NT\":  \"green\",\n",
    "    \"SA\":  \"blue\",\n",
    "    \"Q\":   \"red\",\n",
    "    \"NSW\": \"green\",\n",
    "    \"V\":   \"red\",\n",
    "    \"T\":   \"blue\",   # Tasmania is isolated; any color works\n",
    "}\n",
    "\n",
    "print(\"Variables:\", csp.variables)\n",
    "print(\"Domains:\", csp.domains)\n",
    "print(\"Neighbors of SA:\", csp.neighbors[\"SA\"])\n",
    "\n",
    "print(\"Valid?\", is_complete_and_valid(csp, assignment_valid))\n",
    "plot_australia_coloring(assignment_valid)"
   ]
  },
  {
   "cell_type": "markdown",
   "id": "53e698a7",
   "metadata": {},
   "source": [
    "Let's also check out an invalid assignment:"
   ]
  },
  {
   "cell_type": "code",
   "execution_count": 4,
   "id": "ccf96276",
   "metadata": {},
   "outputs": [
    {
     "name": "stdout",
     "output_type": "stream",
     "text": [
      "Valid? False\n"
     ]
    },
    {
     "data": {
      "image/png": "[encoded data removed]",
      "text/plain": [
       "<Figure size 600x600 with 1 Axes>"
      ]
     },
     "metadata": {},
     "output_type": "display_data"
    }
   ],
   "source": [
    "assignment_invalid = {\n",
    "    \"WA\":  \"red\",\n",
    "    \"NT\":  \"red\",    # <-- violates WA–NT ≠ constraint\n",
    "    \"SA\":  \"blue\",\n",
    "    \"Q\":   \"red\",\n",
    "    \"NSW\": \"green\",\n",
    "    \"V\":   \"red\",\n",
    "    \"T\":   \"blue\",\n",
    "}\n",
    "\n",
    "print(\"Valid?\", is_complete_and_valid(csp, assignment_invalid))  # should be False\n",
    "plot_australia_coloring(assignment_invalid)                      # still plots; helps explain violations"
   ]
  },
  {
   "cell_type": "markdown",
   "id": "ad45de68",
   "metadata": {},
   "source": [
    "### <a name=\"naive_search\"></a> 1A. Naive Search with Variable Ordering (15 points)\n",
    "\n",
    "Implement a brute-force **depth-first search** (DFS) that:\n",
    "- assigns variables **in the given order** (`csp.variables`);\n",
    "- **does not** check constraints until a **full** assignment is reached;\n",
    "- returns **(solution_dict_or_None, steps_int)**, where **steps** = number of DFS nodes (partial assignments) visited.\n",
    "\n",
    "<div class=\"alert alert-info\">\n",
    "Complete the code for `naive_search` below.\n",
    "</div>"
   ]
  },
  {
   "cell_type": "code",
   "execution_count": 5,
   "id": "0290ad6f",
   "metadata": {},
   "outputs": [],
   "source": [
    "def naive_search(csp: CSP) -> tuple[dict | None, int]:\n",
    "    \"\"\"\n",
    "    Implement a brute-force DFS that:\n",
    "      - assigns variables in the given order (csp.variables)\n",
    "      - DOES NOT check constraints until a full assignment is built\n",
    "      - returns a complete, valid assignment dict if one is found; else None\n",
    "      - returns how many DFS nodes (partial assignments) were visited\n",
    "\n",
    "    Returns:\n",
    "      (solution_dict_or_None, steps_int)\n",
    "    \"\"\"\n",
    "    order = list(csp.variables)\n",
    "    \n",
    "    def dfs(i: int, part_assign: dict) -> tuple[dict | None, int]:\n",
    "        steps = 1\n",
    "        \n",
    "        if i == len(order):\n",
    "            if is_complete_and_valid(csp, part_assign):\n",
    "                return part_assign, steps\n",
    "            else:\n",
    "                return None, steps\n",
    "        \n",
    "        var = order[i]\n",
    "        for val in csp.domains[var]:\n",
    "            part_assign[var] = val\n",
    "            solution, sub_steps = dfs(i + 1, part_assign)\n",
    "            steps += sub_steps\n",
    "            if solution is not None:\n",
    "                return solution, steps\n",
    "            del part_assign[var]\n",
    "        \n",
    "        return None, steps\n",
    "\n",
    "    return dfs(0, {})"
   ]
  },
  {
   "cell_type": "markdown",
   "id": "b05bd339",
   "metadata": {},
   "source": [
    "Let's now run your implementation of Naive Search on the Australia problem:"
   ]
  },
  {
   "cell_type": "code",
   "execution_count": 6,
   "id": "4702a142",
   "metadata": {},
   "outputs": [
    {
     "name": "stdout",
     "output_type": "stream",
     "text": [
      "\n",
      "Naive search (node count)\n",
      "--------------------------------------\n",
      "Valid solution found?: True\n",
      "Nodes visited (DFS states): 627\n"
     ]
    },
    {
     "data": {
      "image/png": "[encoded data removed]",
      "text/plain": [
       "<Figure size 600x600 with 1 Axes>"
      ]
     },
     "metadata": {},
     "output_type": "display_data"
    }
   ],
   "source": [
    "# 1) build the CSP\n",
    "csp = australia_map_coloring()\n",
    "\n",
    "# 2) check the solution and counter\n",
    "solution, steps = naive_search(csp)\n",
    "print(\"\\nNaive search (node count)\")\n",
    "print(\"--------------------------------------\")\n",
    "print(\"Valid solution found?:\", solution is not None and is_complete_and_valid(csp, solution))\n",
    "print(\"Nodes visited (DFS states):\", steps)\n",
    "\n",
    "# 3) visualize\n",
    "if solution:\n",
    "    plot_australia_coloring(solution)"
   ]
  },
  {
   "cell_type": "markdown",
   "id": "67e958f6",
   "metadata": {},
   "source": [
    "Even on an unsolvable version of the Australia map (2 colors instead of 3), Naive Search is very inefficient: it enumerates all possible colorings before concluding there is no solution."
   ]
  },
  {
   "cell_type": "code",
   "execution_count": 7,
   "id": "afe13137",
   "metadata": {},
   "outputs": [
    {
     "name": "stdout",
     "output_type": "stream",
     "text": [
      "\n",
      "Naive search (node count)\n",
      "--------------------------------------\n",
      "Valid solution found?: False\n",
      "Nodes visited (DFS states): 255\n"
     ]
    }
   ],
   "source": [
    "# 1) build the impossible CSP\n",
    "csp = australia_map_coloring_impossible()\n",
    "\n",
    "# 2) check the solution and counter\n",
    "solution_impossible, steps_impossible = naive_search(csp)\n",
    "print(\"\\nNaive search (node count)\")\n",
    "print(\"--------------------------------------\")\n",
    "print(\"Valid solution found?:\", solution_impossible is not None and is_complete_and_valid(csp, solution_impossible))\n",
    "print(\"Nodes visited (DFS states):\", steps_impossible)"
   ]
  },
  {
   "cell_type": "code",
   "execution_count": 8,
   "id": "5fd836aa",
   "metadata": {},
   "outputs": [
    {
     "data": {
      "text/html": [
       "<div class=\"alert alert-success\">\n",
       "        <strong>Test passed!!</strong>\n",
       "        </div>"
      ]
     },
     "metadata": {},
     "output_type": "display_data"
    },
    {
     "name": "stderr",
     "output_type": "stream",
     "text": [
      ".\n",
      "----------------------------------------------------------------------\n",
      "Ran 1 test in 0.003s\n",
      "\n",
      "OK\n"
     ]
    }
   ],
   "source": [
    "# Test 1\n",
    "Grader.run_single_test_inline(TestPSet4, \"test_01_naive_search\", locals())"
   ]
  },
  {
   "cell_type": "markdown",
   "id": "4f87e94d",
   "metadata": {},
   "source": [
    "### <a name=\"backtracking_search\"></a> 1B. Backtracking Search (10 points)\n",
    "\n",
    "Implement **backtracking search** that checks constraints **as soon as** you assign a variable (early failure):\n",
    "- Same fixed order as naive search.\n",
    "- After tentatively setting `part_assign[var] = val`, call `csp.is_consistent(var, part_assign)`.\n",
    "- If consistent, recurse; otherwise, **backtrack** immediately.\n",
    "- Return **(solution_dict_or_None, steps_int)** where **steps** counts DFS nodes like before.\n",
    "\n",
    "<div class=\"alert alert-info\">\n",
    "Complete the code for `backtracking_search` below.\n",
    "</div>"
   ]
  },
  {
   "cell_type": "code",
   "execution_count": 9,
   "id": "cc863784",
   "metadata": {},
   "outputs": [],
   "source": [
    "def backtracking_search(csp: CSP) -> tuple[dict | None, int]:\n",
    "    \"\"\"\n",
    "    Implement backtracking search that:\n",
    "      - assigns variables in the given order (csp.variables)\n",
    "      - AFTER assigning a variable a value, IMMEDIATELY checks consistency for constraints involving it\n",
    "      - returns a complete, valid assignment dict if one is found; else None\n",
    "      - returns how many DFS nodes (partial assignments) were visited\n",
    "\n",
    "    Returns:\n",
    "      (solution_dict_or_None, steps_int)\n",
    "    \"\"\"\n",
    "    order = list(csp.variables)\n",
    "\n",
    "    def dfs(i: int, part_assign: dict) -> tuple[dict | None, int]:\n",
    "        steps = 1\n",
    "        \n",
    "        if i == len(order):\n",
    "            return part_assign, steps\n",
    "        \n",
    "        var = order[i]\n",
    "        for val in csp.domains[var]:\n",
    "            part_assign[var] = val\n",
    "            \n",
    "            if csp.is_consistent(var, part_assign):\n",
    "                solution, sub_steps = dfs(i + 1, part_assign)\n",
    "                steps += sub_steps\n",
    "                if solution is not None:\n",
    "                    return solution, steps\n",
    "            \n",
    "            del part_assign[var]\n",
    "        \n",
    "        return None, steps\n",
    "\n",
    "    return dfs(0, {})"
   ]
  },
  {
   "cell_type": "markdown",
   "id": "7e6388b2",
   "metadata": {},
   "source": [
    "Let's now run your implementation of Backtracking Search on the Australia problem:"
   ]
  },
  {
   "cell_type": "code",
   "execution_count": 10,
   "id": "a6fff266",
   "metadata": {},
   "outputs": [
    {
     "name": "stdout",
     "output_type": "stream",
     "text": [
      "\n",
      "Backtracking search\n",
      "--------------------------------------\n",
      "Valid solution found?: True\n",
      "Backtracking solution: {'WA': 'red', 'NT': 'green', 'SA': 'blue', 'Q': 'red', 'NSW': 'green', 'V': 'red', 'T': 'red'}\n",
      "Nodes visited: 8\n"
     ]
    },
    {
     "data": {
      "image/png": "[encoded data removed]",
      "text/plain": [
       "<Figure size 600x600 with 1 Axes>"
      ]
     },
     "metadata": {},
     "output_type": "display_data"
    }
   ],
   "source": [
    "# 1) build the CSP\n",
    "csp = australia_map_coloring()\n",
    "\n",
    "# 2) check the solution and counter\n",
    "solution_bt, steps_bt = backtracking_search(csp)\n",
    "print(\"\\nBacktracking search\")\n",
    "print(\"--------------------------------------\")\n",
    "print(\"Valid solution found?:\", solution_bt is not None and is_complete_and_valid(csp, solution_bt))\n",
    "print(\"Backtracking solution:\", solution_bt)\n",
    "print(\"Nodes visited:\", steps_bt)\n",
    "\n",
    "# 3) visualize\n",
    "if solution_bt:\n",
    "    plot_australia_coloring(solution_bt)"
   ]
  },
  {
   "cell_type": "markdown",
   "id": "f5feb496",
   "metadata": {},
   "source": [
    "With this improvement, Backtracking Search is also much quicker at figuring out that a problem is unsolvable compared to Naive Search. By checking constraints as soon as a variable is assigned, it can prune inconsistent branches early."
   ]
  },
  {
   "cell_type": "code",
   "execution_count": 11,
   "id": "0b25ff97",
   "metadata": {},
   "outputs": [
    {
     "name": "stdout",
     "output_type": "stream",
     "text": [
      "\\Backtracking solution\n",
      "--------------------------------------\n",
      "Valid solution found?: False\n",
      "Nodes visited: 5\n"
     ]
    }
   ],
   "source": [
    "# 1) build the impossible CSP\n",
    "csp = australia_map_coloring_impossible()\n",
    "\n",
    "# 2) check the solution and counter\n",
    "solution_impossible_bt, steps_impossible_bt = backtracking_search(csp)\n",
    "print(\"\\Backtracking solution\")\n",
    "print(\"--------------------------------------\")\n",
    "print(\"Valid solution found?:\", solution_impossible_bt is not None and is_complete_and_valid(csp, solution_impossible_bt))\n",
    "print(\"Nodes visited:\", steps_impossible_bt)"
   ]
  },
  {
   "cell_type": "code",
   "execution_count": 12,
   "id": "574a79e5",
   "metadata": {},
   "outputs": [
    {
     "data": {
      "text/html": [
       "<div class=\"alert alert-success\">\n",
       "        <strong>Test passed!!</strong>\n",
       "        </div>"
      ]
     },
     "metadata": {},
     "output_type": "display_data"
    },
    {
     "name": "stderr",
     "output_type": "stream",
     "text": [
      ".\n",
      "----------------------------------------------------------------------\n",
      "Ran 1 test in 0.003s\n",
      "\n",
      "OK\n"
     ]
    }
   ],
   "source": [
    "# Test 2\n",
    "Grader.run_single_test_inline(TestPSet4, \"test_02_backtracking_search\", locals())"
   ]
  },
  {
   "cell_type": "markdown",
   "id": "dac83f73",
   "metadata": {},
   "source": [
    "### <a name=\"forward_checking\"></a> 1C. Forward Checking (20 points)\n",
    "\n",
    "Implement **backtracking search with forward checking**:\n",
    "- After assigning `var = val`, **prune** inconsistent values from **unassigned neighbors**’ domains.\n",
    "- If any neighbor’s domain becomes empty, **backtrack** immediately.\n",
    "- Carefully **restore** pruned values when backtracking.\n",
    "- Return **(solution_dict_or_None, steps_int)** with the same node counting.\n",
    "\n",
    "**What to implement**:\n",
    "- `prune_neighbors(var, val, part_assign)` → returns `{neighbor: [removed_values...]}` or `None` (for wipeout).\n",
    "- `restore(removed)` → put values back on backtrack.\n",
    "- The DFS loop that applies + restores pruning.\n",
    "\n",
    "<div class=\"alert alert-info\">\n",
    "Complete the code for `forward_checking_search` below.\n",
    "</div>"
   ]
  },
  {
   "cell_type": "code",
   "execution_count": 13,
   "id": "50331c21",
   "metadata": {},
   "outputs": [],
   "source": [
    "def forward_checking_search(csp) -> tuple[dict | None, int]:\n",
    "    \"\"\"\n",
    "    Implement backtracking search + forward checking that:\n",
    "      - assigns variables in the given order (csp.variables)\n",
    "      - after assigning var=val, PRUNE neighbors' domains by removing values\n",
    "        that would violate any binary constraint with var\n",
    "      - backtrack immediately if any neighbor domain becomes empty\n",
    "      - restore pruned values on backtrack\n",
    "      - returns (solution_dict_or_None, steps_int)\n",
    "\n",
    "    Returns:\n",
    "      (solution_dict_or_None, steps_int)\n",
    "    \"\"\"\n",
    "    order = list(csp.variables)\n",
    "    domains = {v: list(csp.domains[v]) for v in order}\n",
    "\n",
    "    def prune_neighbors(var, val, part_assign) -> dict | None:\n",
    "        \"\"\"\n",
    "        Forward-checking step:\n",
    "            For each unassigned neighbor 'nbr' of 'var', remove values y in domains[nbr]\n",
    "            for which some constraint between (var, nbr) would be violated by (var=val, nbr=y).\n",
    "        Returns:\n",
    "            - dict {nbr: [removed_values,...]} for restoration, or\n",
    "            - None if a neighbor's domain becomes empty (wipeout -> immediate failure).\n",
    "        \"\"\"\n",
    "        removed = {}\n",
    "        \n",
    "        for nbr in csp.neighbors[var]:\n",
    "            if nbr in part_assign:\n",
    "                continue\n",
    "            \n",
    "            removed[nbr] = []\n",
    "            \n",
    "            for nbr_val in list(domains[nbr]):\n",
    "                test_assign = dict(part_assign)\n",
    "                test_assign[nbr] = nbr_val\n",
    "                \n",
    "                is_valid = True\n",
    "                for constraint in csp.constraints[var]:\n",
    "                    if nbr in constraint.scope and not constraint.satisfied(test_assign):\n",
    "                        is_valid = False\n",
    "                        break\n",
    "                \n",
    "                if not is_valid:\n",
    "                    domains[nbr].remove(nbr_val)\n",
    "                    removed[nbr].append(nbr_val)\n",
    "            \n",
    "            if len(domains[nbr]) == 0:\n",
    "                for n, vals in removed.items():\n",
    "                    domains[n].extend(vals)\n",
    "                return None\n",
    "        \n",
    "        return removed\n",
    "\n",
    "    def restore(removed):\n",
    "        \"\"\"\n",
    "        Undo forward-checking domain pruning:\n",
    "            For each variable listed in 'removed', add the pruned values back into its domain\n",
    "        \"\"\"\n",
    "        for var, vals in removed.items():\n",
    "            domains[var].extend(vals)\n",
    "\n",
    "    def dfs(i: int, part_assign: dict) -> tuple[dict | None, int]:\n",
    "        steps = 1\n",
    "        \n",
    "        if i == len(order):\n",
    "            return part_assign, steps\n",
    "        \n",
    "        var = order[i]\n",
    "        for val in list(domains[var]):\n",
    "            part_assign[var] = val\n",
    "            \n",
    "            if not csp.is_consistent(var, part_assign):\n",
    "                del part_assign[var]\n",
    "                continue\n",
    "            \n",
    "            removed = prune_neighbors(var, val, part_assign)\n",
    "            \n",
    "            if removed is not None:\n",
    "                solution, sub_steps = dfs(i + 1, part_assign)\n",
    "                steps += sub_steps\n",
    "                \n",
    "                if solution is not None:\n",
    "                    return solution, steps\n",
    "                \n",
    "                restore(removed)\n",
    "            \n",
    "            del part_assign[var]\n",
    "        \n",
    "        return None, steps\n",
    "\n",
    "    return dfs(0, {})\n"
   ]
  },
  {
   "cell_type": "markdown",
   "id": "040e9e72",
   "metadata": {},
   "source": [
    "Let's now run your implementation of Backtracking Search with Forward Checking on the Australia problem:"
   ]
  },
  {
   "cell_type": "code",
   "execution_count": 14,
   "id": "98e1ec86",
   "metadata": {},
   "outputs": [
    {
     "name": "stdout",
     "output_type": "stream",
     "text": [
      "\\Forward checking search\n",
      "--------------------------------------\n",
      "Valid solution found?: True\n",
      "Forward checking solution: {'WA': 'red', 'NT': 'green', 'SA': 'blue', 'Q': 'red', 'NSW': 'green', 'V': 'red', 'T': 'red'}\n",
      "Nodes visited: 8\n"
     ]
    },
    {
     "data": {
      "image/png": "[encoded data removed]",
      "text/plain": [
       "<Figure size 600x600 with 1 Axes>"
      ]
     },
     "metadata": {},
     "output_type": "display_data"
    }
   ],
   "source": [
    "# 1) build the CSP\n",
    "csp = australia_map_coloring()\n",
    "\n",
    "# 2) check the solution and counter\n",
    "solution_fc, steps_fc = forward_checking_search(csp)\n",
    "print(\"\\Forward checking search\")\n",
    "print(\"--------------------------------------\")\n",
    "print(\"Valid solution found?:\", solution_fc is not None and is_complete_and_valid(csp, solution_fc))\n",
    "print(\"Forward checking solution:\", solution_fc)\n",
    "print(\"Nodes visited:\", steps_fc)\n",
    "\n",
    "# 3) visualize\n",
    "if solution_fc:\n",
    "    plot_australia_coloring(solution_fc)"
   ]
  },
  {
   "cell_type": "markdown",
   "id": "49d766bb",
   "metadata": {},
   "source": [
    "Forward Checking improves efficiency even further on unsolvable problems. By pruning inconsistent values from the domains of unassigned neighbors, it can detect dead-ends much earlier. This is especially helpful when every path is a dead-end, as it is in an unsolvable problem."
   ]
  },
  {
   "cell_type": "code",
   "execution_count": 15,
   "id": "f37584c7",
   "metadata": {},
   "outputs": [
    {
     "name": "stdout",
     "output_type": "stream",
     "text": [
      "\\Forward checking solution\n",
      "--------------------------------------\n",
      "Valid solution found?: False\n",
      "Nodes visited: 3\n"
     ]
    }
   ],
   "source": [
    "# 1) build the impossible CSP\n",
    "csp = australia_map_coloring_impossible()\n",
    "\n",
    "# 2) check the solution and counter\n",
    "solution_impossible_fc, steps_impossible_fc = forward_checking_search(csp)\n",
    "print(\"\\Forward checking solution\")\n",
    "print(\"--------------------------------------\")\n",
    "print(\"Valid solution found?:\", solution_impossible_fc is not None and is_complete_and_valid(csp, solution_impossible_fc))\n",
    "print(\"Nodes visited:\", steps_impossible_fc)"
   ]
  },
  {
   "cell_type": "code",
   "execution_count": 16,
   "id": "95b951ee",
   "metadata": {},
   "outputs": [
    {
     "name": "stderr",
     "output_type": "stream",
     "text": [
      ".\n",
      "----------------------------------------------------------------------\n",
      "Ran 1 test in 0.001s\n",
      "\n",
      "OK\n"
     ]
    }
   ],
   "source": [
    "# Test 3\n",
    "Grader.run_single_test_inline(TestPSet4, \"test_03_forward_checking\", locals())"
   ]
  },
  {
   "cell_type": "markdown",
   "id": "6f5fcc33",
   "metadata": {},
   "source": [
    "### <a name=\"comparison\"></a> 1D. Comparing algorithms on N-Queens (10 points)\n",
    "\n",
    "Australia has few variables and sparse constraints, so improvements may look mild. N-Queens will help us compare and contrast our algorithms better. Let's create N-Queens and run our 3 algorithms above. Increase `n` gradually (e.g. 6, 8, 10) and note where naive search becomes infeasible."
   ]
  },
  {
   "cell_type": "code",
   "execution_count": 17,
   "id": "60aa7de0",
   "metadata": {},
   "outputs": [
    {
     "name": "stdout",
     "output_type": "stream",
     "text": [
      "\n",
      "=== N=6 Queens ===\n",
      "Naive: steps=15316, valid=True\n",
      "Backtracking: steps=32, valid=True\n",
      "Forward Checking: steps=18, valid=True\n"
     ]
    },
    {
     "data": {
      "image/png": "[encoded data removed]",
      "text/plain": [
       "<Figure size 600x600 with 1 Axes>"
      ]
     },
     "metadata": {},
     "output_type": "display_data"
    }
   ],
   "source": [
    "# Build N-Queens instance\n",
    "n = 6 # Try out a few examples\n",
    "print(f\"\\n=== N={n} Queens ===\")\n",
    "csp = n_queens_csp(n)\n",
    "\n",
    "# Run naive\n",
    "naive_sol, naive_steps = naive_search(csp)\n",
    "print(f\"Naive: steps={naive_steps}, valid={is_complete_and_valid(csp, naive_sol or {})}\")\n",
    "\n",
    "# Run backtracking\n",
    "bt_sol, bt_steps = backtracking_search(csp)\n",
    "print(f\"Backtracking: steps={bt_steps}, valid={is_complete_and_valid(csp, bt_sol or {})}\")\n",
    "\n",
    "# Run Forward Checking\n",
    "fc_sol, fc_steps = forward_checking_search(csp)\n",
    "print(f\"Forward Checking: steps={fc_steps}, valid={is_complete_and_valid(csp, fc_sol or {})}\")\n",
    "\n",
    "# Plot the forward-checking solution (if found)\n",
    "if fc_sol:\n",
    "    plot_n_queens(fc_sol, n=n, invert_rows=True)"
   ]
  },
  {
   "cell_type": "markdown",
   "id": "ae9831da",
   "metadata": {},
   "source": [
    "We can even plot the number of nodes expanded with increasing `n`. Run all three algorithms (naive, backtracking, forward checking) on N-Queens for a range of N values (e.g. 1–8). Plot N vs. nodes visited for each algorithm on the same plot the cell below.\n",
    "\n",
    "**Hint:** Not seeing a line for Backtracking? It's probably covered by the Forward Checking line - try plotting with a log y-scale!"
   ]
  },
  {
   "cell_type": "code",
   "execution_count": 18,
   "id": "896da0fb",
   "metadata": {},
   "outputs": [
    {
     "data": {
      "image/png": "[encoded data removed]",
      "text/plain": [
       "<Figure size 600x400 with 1 Axes>"
      ]
     },
     "metadata": {},
     "output_type": "display_data"
    }
   ],
   "source": [
    "plt.figure(figsize=(6,4))\n",
    "\n",
    "n_values = list(range(1, 9))\n",
    "naive_steps = []\n",
    "bt_steps = []\n",
    "fc_steps = []\n",
    "\n",
    "for n in n_values:\n",
    "    csp = n_queens_csp(n)\n",
    "    \n",
    "    _, naive_s = naive_search(csp)\n",
    "    naive_steps.append(naive_s)\n",
    "    \n",
    "    _, bt_s = backtracking_search(csp)\n",
    "    bt_steps.append(bt_s)\n",
    "    \n",
    "    _, fc_s = forward_checking_search(csp)\n",
    "    fc_steps.append(fc_s)\n",
    "\n",
    "plt.plot(n_values, naive_steps, marker='o', label='Naive Search')\n",
    "plt.plot(n_values, bt_steps, marker='s', label='Backtracking')\n",
    "plt.plot(n_values, fc_steps, marker='^', label='Forward Checking')\n",
    "plt.yscale('log')\n",
    "\n",
    "plt.xlabel(\"N (board size)\")\n",
    "plt.ylabel(\"Nodes visited\")\n",
    "plt.title(\"N-Queens: scaling of different algorithms\")\n",
    "plt.legend()\n",
    "plt.savefig(\"nqueens_scaling.png\")\n",
    "plt.show()"
   ]
  },
  {
   "cell_type": "markdown",
   "id": "c476159b",
   "metadata": {},
   "source": [
    "**Now answer the following questions:**\n",
    "1. How do the curves differ across algorithms? Which one scales worst, and which scales best?  \n",
    "2. Why does forward checking give larger benefits on N-Queens than on Australia?  \n",
    "\n",
    "<div class=\"alert alert-info\">\n",
    "Write your answer in the cell below this one.\n",
    "</div>"
   ]
  },
  {
   "cell_type": "markdown",
   "id": "486ced58",
   "metadata": {},
   "source": [
    "1. Naive search scales exponentially and is the worst. Backtracking is way better since it prunes early. Forward checking is the best because it eliminates inconsistent values from future variables before even trying them.\n",
    "\n",
    "2. N-Queens has way more constraints - each queen affects many others through column and diagonal constraints. When you place a queen, forward checking eliminates tons of invalid positions for the remaining queens. Australia map only has sparse neighbor constraints, so there's less to prune."
   ]
  },
  {
   "cell_type": "markdown",
   "id": "5e314c8c-21c9-45c0-901a-bd55ed8862ee",
   "metadata": {},
   "source": [
    "## <a name=\"local_search\"></a> 2. Local Search for Constraint Satisfaction Problems (15 points)"
   ]
  },
  {
   "cell_type": "markdown",
   "id": "601cb722-4469-4db1-99b8-9cda0076429c",
   "metadata": {},
   "source": [
    "### 2A. (5 points)\n",
    "\n",
    "When there is some kind of information available about the \"quality\" of a non-satisfying assignment, then we can do local search, trying to improve that solution by making a sequence of small improving changes.\n",
    "\n",
    "Which of the following might make good measures of the quality of an assignment, which would decrease as the assignment improved toward a solution?\n",
    "\n",
    "1.  Number of violated constraints\n",
    "2. Sum of the \"amount\" each constraint is violated (for example, how much two objects interpenetrate, given a collision-free constraint)\n",
    "3. Number of values in the domains of the variables involved in violated constraints"
   ]
  },
  {
   "cell_type": "code",
   "execution_count": 19,
   "id": "e79a0415-0a43-48e9-88a1-5d988fbe8c59",
   "metadata": {},
   "outputs": [],
   "source": [
    "q4_answer = (True, True, False)"
   ]
  },
  {
   "cell_type": "code",
   "execution_count": 20,
   "id": "ff39afe2-f67c-4aba-871b-3c44e3877817",
   "metadata": {},
   "outputs": [
    {
     "data": {
      "text/html": [
       "<div class=\"alert alert-success\">\n",
       "        <strong>Test passed!!</strong>\n",
       "        </div>"
      ]
     },
     "metadata": {},
     "output_type": "display_data"
    },
    {
     "name": "stderr",
     "output_type": "stream",
     "text": [
      ".\n",
      "----------------------------------------------------------------------\n",
      "Ran 1 test in 0.002s\n",
      "\n",
      "OK\n"
     ]
    }
   ],
   "source": [
    "# Test 4\n",
    "Grader.run_single_test_inline(TestPSet4, \"test_04\", locals())"
   ]
  },
  {
   "cell_type": "markdown",
   "id": "54cfe5c1-1cc3-4eab-8674-7618b18326ba",
   "metadata": {},
   "source": [
    "### 2B. (5 points)\n",
    "\n",
    "Consider an algorithm in which you iterate these steps until you find a solution:\n",
    "\n",
    "- Find a violated constraint.\n",
    "- Make a minimal reassignment of values to variables involved in it, so that it becomes satisfied.\n",
    "\n",
    "True or False: Is it guaranteed to find a satisfying assignment if one exists?"
   ]
  },
  {
   "cell_type": "code",
   "execution_count": 21,
   "id": "ca058927-3ff8-4f1c-be78-72f9465a8eff",
   "metadata": {},
   "outputs": [],
   "source": [
    "q5_answer = False"
   ]
  },
  {
   "cell_type": "code",
   "execution_count": 22,
   "id": "69f84ebc-26f7-40f2-b37b-ee887e6fbe34",
   "metadata": {},
   "outputs": [
    {
     "data": {
      "text/html": [
       "<div class=\"alert alert-success\">\n",
       "        <strong>Test passed!!</strong>\n",
       "        </div>"
      ]
     },
     "metadata": {},
     "output_type": "display_data"
    },
    {
     "name": "stderr",
     "output_type": "stream",
     "text": [
      ".\n",
      "----------------------------------------------------------------------\n",
      "Ran 1 test in 0.001s\n",
      "\n",
      "OK\n"
     ]
    }
   ],
   "source": [
    "# Test 5\n",
    "Grader.run_single_test_inline(TestPSet4, \"test_05\", locals())"
   ]
  },
  {
   "cell_type": "markdown",
   "id": "b375504b-3a36-4485-9012-6b05c9ade3c4",
   "metadata": {},
   "source": [
    "### 2C. (5 points)\n",
    "\n",
    "Consider an algorithm in which you iterate these steps until you find a solution:\n",
    "\n",
    "- Pick a variable at random and a possible assignment to it.\n",
    "- If changing that variable to have that value decreases the number of constraints that are violated, make the change, otherwise do not.\n",
    "\n",
    "True or False: Is it guaranteed to find a satisfying assignment if one exists?"
   ]
  },
  {
   "cell_type": "code",
   "execution_count": 23,
   "id": "1b7958e1-5bde-4826-967a-d2cc2e28834e",
   "metadata": {},
   "outputs": [],
   "source": [
    "q6_answer = False"
   ]
  },
  {
   "cell_type": "code",
   "execution_count": 24,
   "id": "79964533-73f0-45d9-98f3-d5da646b3d8b",
   "metadata": {},
   "outputs": [
    {
     "data": {
      "text/html": [
       "<div class=\"alert alert-success\">\n",
       "        <strong>Test passed!!</strong>\n",
       "        </div>"
      ]
     },
     "metadata": {},
     "output_type": "display_data"
    },
    {
     "name": "stderr",
     "output_type": "stream",
     "text": [
      ".\n",
      "----------------------------------------------------------------------\n",
      "Ran 1 test in 0.001s\n",
      "\n",
      "OK\n"
     ]
    }
   ],
   "source": [
    "# Test 6\n",
    "Grader.run_single_test_inline(TestPSet4, \"test_06\", locals())"
   ]
  },
  {
   "cell_type": "markdown",
   "id": "c2e7d3c9-64b3-4fba-af16-af4e7ea8ed9d",
   "metadata": {},
   "source": [
    "### 2D. (5 points)\n",
    "\n",
    "Consider an algoirthm in which you iterate these steps until you find a solution:\n",
    "\n",
    "- Pick a variable at random and a possible assignment to it.\n",
    "- If changing that variable to have that value improves the quality of the assignment, make the change.\n",
    "- Otherwise, with probability $e^{-\\delta / T}$ where $\\delta$ is the change in assignment quality, accept the change\n",
    "\n",
    "True or False: Is there a way to manage the $T$ parameter so this is guaranteed to find a satisfying assignment if one exists?"
   ]
  },
  {
   "cell_type": "code",
   "execution_count": 25,
   "id": "be8ff9b7-e6b7-437a-94a7-070a4fd5bccd",
   "metadata": {},
   "outputs": [],
   "source": [
    "q7_answer = True"
   ]
  },
  {
   "cell_type": "code",
   "execution_count": 26,
   "id": "3b7db87a-b977-4deb-8a53-f885aab59074",
   "metadata": {},
   "outputs": [
    {
     "data": {
      "text/html": [
       "<div class=\"alert alert-success\">\n",
       "        <strong>Test passed!!</strong>\n",
       "        </div>"
      ]
     },
     "metadata": {},
     "output_type": "display_data"
    },
    {
     "name": "stderr",
     "output_type": "stream",
     "text": [
      ".\n",
      "----------------------------------------------------------------------\n",
      "Ran 1 test in 0.001s\n",
      "\n",
      "OK\n"
     ]
    }
   ],
   "source": [
    "# Test 7\n",
    "Grader.run_single_test_inline(TestPSet4, \"test_07\", locals())"
   ]
  },
  {
   "attachments": {},
   "cell_type": "markdown",
   "id": "deda69b5-edb7-44dd-af89-54c90346ac9b",
   "metadata": {},
   "source": [
    "## 3. <a name=\"classical_planning\"></a> Classical Planning (25 points) \n",
    "\n",
    "In this section, we shift to **classical planning**. You will get hands-on practice with running a planner on simple problems, writing your own PDDL domain and problem, and comparing heuristics and search strategies.\n",
    "\n",
    "As before, we'll scaffold most of the setup so you can focus on the core planning ideas:\n"
   ]
  },
  {
   "cell_type": "code",
   "execution_count": 27,
   "id": "77996a23-7844-4501-ac97-b2aa8cc25ea6",
   "metadata": {},
   "outputs": [],
   "source": [
    "import os\n",
    "import time\n",
    "import tempfile\n",
    "from pyperplan.pddl.parser import Parser\n",
    "from pyperplan import grounding, planner\n",
    "\n",
    "# This uses TYPING\n",
    "BLOCKS_DOMAIN = \"\"\"(define (domain blocks)\n",
    "    (:requirements :strips :typing)\n",
    "    (:types block)\n",
    "    (:predicates\n",
    "        (on ?x - block ?y - block)\n",
    "        (ontable ?x - block)\n",
    "        (clear ?x - block)\n",
    "        (handempty)\n",
    "        (holding ?x - block)\n",
    "    )\n",
    "\n",
    "    (:action pick-up\n",
    "        :parameters (?x - block)\n",
    "        :precondition (and\n",
    "            (clear ?x)\n",
    "            (ontable ?x)\n",
    "            (handempty)\n",
    "        )\n",
    "        :effect (and\n",
    "            (not (ontable ?x))\n",
    "            (not (clear ?x))\n",
    "            (not (handempty))\n",
    "            (holding ?x)\n",
    "        )\n",
    "    )\n",
    "\n",
    "    (:action put-down\n",
    "        :parameters (?x - block)\n",
    "        :precondition (and\n",
    "            (holding ?x)\n",
    "        )\n",
    "        :effect (and\n",
    "            (not (holding ?x))\n",
    "            (clear ?x)\n",
    "            (handempty)\n",
    "            (ontable ?x))\n",
    "        )\n",
    "\n",
    "    (:action stack\n",
    "        :parameters (?x - block ?y - block)\n",
    "        :precondition (and\n",
    "            (holding ?x)\n",
    "            (clear ?y)\n",
    "        )\n",
    "        :effect (and\n",
    "            (not (holding ?x))\n",
    "            (not (clear ?y))\n",
    "            (clear ?x)\n",
    "            (handempty)\n",
    "            (on ?x ?y)\n",
    "        )\n",
    "    )\n",
    "\n",
    "    (:action unstack\n",
    "        :parameters (?x - block ?y - block)\n",
    "        :precondition (and\n",
    "            (on ?x ?y)\n",
    "            (clear ?x)\n",
    "            (handempty)\n",
    "        )\n",
    "        :effect (and\n",
    "            (holding ?x)\n",
    "            (clear ?y)\n",
    "            (not (clear ?x))\n",
    "            (not (handempty))\n",
    "            (not (on ?x ?y))\n",
    "        )\n",
    "    )\n",
    ")\n",
    "\"\"\"\n",
    "\n",
    "# This uses TYPING\n",
    "BLOCKS_PROBLEM = \"\"\"(define (problem blocks)\n",
    "    (:domain blocks)\n",
    "    (:objects\n",
    "        d - block\n",
    "        b - block\n",
    "        a - block\n",
    "        c - block\n",
    "    )\n",
    "    (:init\n",
    "        (clear a)\n",
    "        (on a b)\n",
    "        (on b c)\n",
    "        (on c d)\n",
    "        (ontable d)\n",
    "        (handempty)\n",
    "    )\n",
    "    (:goal (and (on d c) (on c b) (on b a)))\n",
    ")\n",
    "\"\"\"\n",
    "\n",
    "# The BW domain does not use TYPING\n",
    "BW_BLOCKS_DOMAIN = \"\"\"(define (domain prodigy-bw)\n",
    "  (:requirements :strips)\n",
    "  (:predicates (on ?x ?y)\n",
    "               (ontable ?x)\n",
    "               (clear ?x)\n",
    "               (handempty)\n",
    "               (holding ?x)\n",
    "               )\n",
    "  (:action pick-up\n",
    "             :parameters (?ob1)\n",
    "             :precondition (and (clear ?ob1) (ontable ?ob1) (handempty))\n",
    "             :effect\n",
    "             (and (not (ontable ?ob1))\n",
    "                   (not (clear ?ob1))\n",
    "                   (not (handempty))\n",
    "                   (holding ?ob1)))\n",
    "  (:action put-down\n",
    "             :parameters (?ob)\n",
    "             :precondition (holding ?ob)\n",
    "             :effect\n",
    "             (and (not (holding ?ob))\n",
    "                   (clear ?ob)\n",
    "                   (handempty)\n",
    "                   (ontable ?ob)))\n",
    "  (:action stack\n",
    "             :parameters (?sob ?sunderob)\n",
    "             :precondition (and (holding ?sob) (clear ?sunderob))\n",
    "             :effect\n",
    "             (and (not (holding ?sob))\n",
    "                   (not (clear ?sunderob))\n",
    "                   (clear ?sob)\n",
    "                   (handempty)\n",
    "                   (on ?sob ?sunderob)))\n",
    "  (:action unstack\n",
    "             :parameters (?sob ?sunderob)\n",
    "             :precondition (and (on ?sob ?sunderob) (clear ?sob) (handempty))\n",
    "             :effect\n",
    "             (and (holding ?sob)\n",
    "                   (clear ?sunderob)\n",
    "                   (not (clear ?sob))\n",
    "                   (not (handempty))\n",
    "                   (not (on ?sob ?sunderob)))))\n",
    "\"\"\"\n",
    "\n",
    "\n",
    "def get_task_definition_str(domain_pddl_str, problem_pddl_str):\n",
    "    \"\"\"Get Pyperplan task definition from PDDL domain and problem.\n",
    "\n",
    "    This function is a lightweight wrapper around Pyperplan.\n",
    "\n",
    "    Args:\n",
    "      domain_pddl_str: A str, the contents of a domain.pddl file.\n",
    "      problem_pddl_str: A str, the contents of a problem.pddl file.\n",
    "\n",
    "    Returns:\n",
    "      task: a structure defining the problem\n",
    "    \"\"\"\n",
    "    # Parsing the PDDL\n",
    "    domain_file = tempfile.NamedTemporaryFile(delete=False)\n",
    "    problem_file = tempfile.NamedTemporaryFile(delete=False)\n",
    "    with open(domain_file.name, 'w') as f:\n",
    "        f.write(domain_pddl_str)\n",
    "    with open(problem_file.name, 'w') as f:\n",
    "        f.write(problem_pddl_str)\n",
    "    parser = Parser(domain_file.name, problem_file.name)\n",
    "    domain = parser.parse_domain()\n",
    "    problem = parser.parse_problem(domain)\n",
    "    os.remove(domain_file.name)\n",
    "    os.remove(problem_file.name)\n",
    "\n",
    "    # Ground the PDDL\n",
    "    task = grounding.ground(problem)\n",
    "    return task\n",
    "\n",
    "\n",
    "def run_planning(domain_pddl_str,\n",
    "                 problem_pddl_str,\n",
    "                 search_alg_name,\n",
    "                 heuristic_name=None,\n",
    "                 return_time=False):\n",
    "    \"\"\"Plan a sequence of actions to solve the given PDDL problem.\n",
    "\n",
    "    This function is a lightweight wrapper around pyperplan.\n",
    "\n",
    "    Args:\n",
    "      domain_pddl_str: A str, the contents of a domain.pddl file.\n",
    "      problem_pddl_str: A str, the contents of a problem.pddl file.\n",
    "      search_alg_name: A str, the name of a search algorithm in\n",
    "        pyperplan. Options: astar, wastar, gbf, bfs, ehs, ids, sat.\n",
    "      heuristic_name: A str, the name of a heuristic in pyperplan.\n",
    "        Options: blind, hadd, hmax, hsa, hff, lmcut, landmark.\n",
    "      return_time:  Bool. Set to `True` to return the planning time.\n",
    "\n",
    "    Returns:\n",
    "      plan: A list of actions; each action is a pyperplan Operator.\n",
    "    \"\"\"\n",
    "    # Ground the PDDL\n",
    "    task = get_task_definition_str(domain_pddl_str, problem_pddl_str)\n",
    "\n",
    "    # Get the search alg\n",
    "    search_alg = planner.SEARCHES[search_alg_name]\n",
    "\n",
    "    if heuristic_name is None:\n",
    "        if not return_time:\n",
    "            return search_alg(task)\n",
    "        start_time = time.time()\n",
    "        plan = search_alg(task)\n",
    "        plan_time = time.time() - start_time\n",
    "        return plan, plan_time\n",
    "\n",
    "    # Get the heuristic\n",
    "    heuristic = planner.HEURISTICS[heuristic_name](task)\n",
    "\n",
    "    # Run planning\n",
    "    start_time = time.time()\n",
    "    plan = search_alg(task, heuristic)\n",
    "    plan_time = time.time() - start_time\n",
    "\n",
    "    if return_time:\n",
    "        return plan, plan_time\n",
    "    return plan\n",
    "\n",
    "\n",
    "def h_add_test(prob_str, expected_h):\n",
    "    task = get_task_definition_str(BW_BLOCKS_DOMAIN, prob_str)\n",
    "    h = h_add(task)\n",
    "    assert h == expected_h, f\"Expected h={expected_h}, but got {h}.\"\n",
    "    return h\n",
    "\n",
    "\n",
    "def h_ff_test(prob_str, expected_h):\n",
    "    task = get_task_definition_str(BW_BLOCKS_DOMAIN, prob_str)\n",
    "    h = h_ff(task)\n",
    "    assert h == expected_h, f\"Expected h={expected_h}, but got {h}.\""
   ]
  },
  {
   "cell_type": "markdown",
   "id": "421192d3-b9b4-4ec9-90ba-3586047e592b",
   "metadata": {},
   "source": [
    "### <a name=\"warmup\"></a> 3A. Warming up with Pyperplan (5 points)\n",
    "\n",
    "In this homework, we will be using a Python PDDL planner called `pyperplan`. Let's warm up by using `pyperplan` to solve a given blocks PDDL problem.\n",
    "\n",
    "Use `run_planning` to find a plan for the blocks problem defined above (`BLOCKS_DOMAIN`, `BLOCKS_PROBLEM`).\n",
    "\n",
    "The `run_planning` function takes in a PDDL domain string, a PDDL problem string, the name of a search algorithm, and the name of a heuristic (if the search algorithm is informed) or a customized heuristic class. It then uses the Python planning library `pyperplan` to find a plan.\n",
    "\n",
    "The plan returned by `run_planning` is a list of pyperplan Operators. You should not need to manipulate these data structures directly in this homework, but if you are curious about the definition, see [here](https://github.com/aibasel/pyperplan/blob/master/pyperplan/task.py#L23).\n",
    "\n",
    "The search algs available in pyperplan are: `astar, wastar, gbf, bfs, ehs, ids, sat`. The heuristics available in pyperplan are: `blind, hadd, hmax, hsa, hff, lmcut, landmark`.\n",
    "\n",
    "For this question, use the `astar` search algorithm with the `hadd` heuristic.\n",
    "\n",
    "For reference, our solution is **1** line(s) of code.\n"
   ]
  },
  {
   "cell_type": "code",
   "execution_count": 28,
   "id": "3d96c525-5e78-4766-a409-740e8b9ea436",
   "metadata": {},
   "outputs": [],
   "source": [
    "def planning_warmup():\n",
    "    '''Use run_planning to find a plan for the blocks problem defined at the\n",
    "    top of the colab file (BLOCKS_DOMAIN, BLOCKS_PROBLEM).\n",
    "\n",
    "      Use the astar search algorithm with the hadd heuristic.\n",
    "\n",
    "    Returns:\n",
    "      plan: A list of actions; each action is a pyperplan Operator.\n",
    "    '''\n",
    "    return run_planning(BLOCKS_DOMAIN, BLOCKS_PROBLEM, 'astar', 'hadd')"
   ]
  },
  {
   "cell_type": "code",
   "execution_count": 29,
   "id": "37242f0a-e437-4360-838b-9b24a8a0e8bd",
   "metadata": {},
   "outputs": [
    {
     "data": {
      "text/html": [
       "<div class=\"alert alert-success\">\n",
       "        <strong>Test passed!!</strong>\n",
       "        </div>"
      ]
     },
     "metadata": {},
     "output_type": "display_data"
    },
    {
     "name": "stderr",
     "output_type": "stream",
     "text": [
      ".\n",
      "----------------------------------------------------------------------\n",
      "Ran 1 test in 0.008s\n",
      "\n",
      "OK\n"
     ]
    }
   ],
   "source": [
    "# Test 8\n",
    "Grader.run_single_test_inline(TestPSet4, \"test_08_planning_warmup\", locals())"
   ]
  },
  {
   "cell_type": "markdown",
   "id": "f0c7154e-3c42-4fb6-926b-5b8c6f467524",
   "metadata": {},
   "source": [
    "### <a name=\"pddl\"></a> 3B. Fill in the Blanks (10 points)\n",
    "\n",
    "You've received PDDL domain and problem strings from your boss and you need to make a plan, pronto! Unfortunately, some of the PDDL is missing.\n",
    "\n",
    "Here's what you know. What you're trying to model is a newspaper delivery robot. The robot starts out at a \"home base\" where there are papers that it can pick up. The robot can hold arbitrarily many papers at once. It can then move around to different locations and deliver papers.\n",
    "\n",
    "Not all locations want a paper -- the goal is to satisfy all the locations that do want a paper.\n",
    "\n",
    "You also know:\n",
    "* There are 6 locations in addition to 1 for the homebase. Locations 1, 2, 3, and 4 want paper; locations 5 and 6 do not.\n",
    "* There are 8 papers at the homebase.\n",
    "* The robot is initially at the homebase with no papers packed.\n",
    "\n",
    "Use this description to complete the PDDL domain and problem. You can assume the PDDL planner will find the optimal solution.\n",
    "\n",
    "If you are running into issues writing or debugging the PDDL you can check out this online PDDL editor, which comes with a built-in planner: [editor.planning.domains](http://editor.planning.domains). To use the editor, you can create two files, one for the domain and one for the problem. You can then click \"Solve\" at the top to use the built-in planner.\n",
    "\n",
    "For a general reference on PDDL, check out [planning.wiki](https://planning.wiki/). Note that the PDDL features supported by pyperplan are very limited: types and constants are supported, but that's about it. If you want to make a domain that involves more advanced features, you can try the built-in planner at [editor.planning.domains](http://editor.planning.domains), or you can use any other PDDL planner of your choosing.\n",
    "\n",
    "Debugging PDDL can be painful. The online editor at [editor.planning.domains](http://editor.planning.domains) is helpful: pay attention to the syntax highlighting and to the line numbers in error messages that result from trying to Solve. To debug, you can also comment out multiple lines of your files by highlighting and using `Ctrl + /` or `Cmd + /`. Common issues to watch out for include:\n",
    "* A predicate is not defined in the domain file\n",
    "* A variable name does not start with a question mark\n",
    "* An illegal character is used (we recommended sticking with alphanumeric characters, dashes, or underscores; and don't start any names with numbers)\n",
    "* An operator is missing a parameter (in general, the parameters should be exactly the variables that are used anywhere in the operator's preconditions or effects)\n",
    "* An operator is missing a necessary precondition or effect\n",
    "* Using negated preconditions, which are not allowed in basic Strips\n",
    "\n",
    "If you get stuck debugging your PDDL file for more than 10-15 min, please reach out and we'll help!\n",
    "\n",
    "Look through the following file, find the TODOs and complete the necessary PDDL terms. "
   ]
  },
  {
   "cell_type": "code",
   "execution_count": 30,
   "id": "5045add7-c4aa-4839-8dcf-3f0ac8c8dbd2",
   "metadata": {},
   "outputs": [],
   "source": [
    "def pddl_warmup():\n",
    "    '''Creates a PDDL domain and problem strs for newspaper delivery (uses\n",
    "    TYPING).\n",
    "\n",
    "    Returns:\n",
    "      domain: str\n",
    "      problem: str\n",
    "    '''\n",
    "    domain_str = '''(define (domain newspapers)\n",
    "    (:requirements :strips :typing)\n",
    "    (:types loc paper)\n",
    "    (:predicates\n",
    "      (at ?loc - loc)\n",
    "      (isHomeBase ?loc - loc)\n",
    "      (unpacked ?paper - paper)\n",
    "      (carrying ?paper - paper)\n",
    "      (satisfied ?loc - loc)\n",
    "    )\n",
    "\n",
    "    (:action pick-up\n",
    "      :parameters (?paper - paper ?loc - loc)\n",
    "      :precondition (and\n",
    "        (at ?loc)\n",
    "        (isHomeBase ?loc)\n",
    "        (unpacked ?paper)\n",
    "      )\n",
    "      :effect (and\n",
    "        (not (unpacked ?paper))\n",
    "        (carrying ?paper)\n",
    "      )\n",
    "    )\n",
    "\n",
    "    (:action move\n",
    "      :parameters (?from - loc ?to - loc)\n",
    "      :precondition (and\n",
    "        (at ?from) \n",
    "      )\n",
    "      :effect (and\n",
    "        (not (at ?from))\n",
    "        (at ?to)\n",
    "      )\n",
    "    )\n",
    "\n",
    "    (:action deliver\n",
    "      :parameters (?paper - paper ?loc - loc)\n",
    "      :precondition (and\n",
    "        (at ?loc)\n",
    "        (carrying ?paper)\n",
    "      )\n",
    "      :effect (and\n",
    "        (not (carrying ?paper))\n",
    "        (satisfied ?loc)\n",
    "      )\n",
    "    )\n",
    "\n",
    ")'''\n",
    "\n",
    "    problem_str = '''(define (problem newspapers1) (:domain newspapers)\n",
    "  (:objects\n",
    "    loc-0 - loc\n",
    "    loc-1 - loc\n",
    "    loc-2 - loc\n",
    "    loc-3 - loc\n",
    "    loc-4 - loc\n",
    "    loc-5 - loc\n",
    "    loc-6 - loc\n",
    "    paper-0 - paper\n",
    "    paper-1 - paper\n",
    "    paper-2 - paper\n",
    "    paper-3 - paper\n",
    "    paper-4 - paper\n",
    "    paper-5 - paper\n",
    "    paper-6 - paper\n",
    "    paper-7 - paper\n",
    "  )\n",
    "  (:init \n",
    "    (at loc-0)\n",
    "    (isHomeBase loc-0)\n",
    "    (unpacked paper-0)\n",
    "    (unpacked paper-1)\n",
    "    (unpacked paper-2)\n",
    "    (unpacked paper-3)\n",
    "    (unpacked paper-4)\n",
    "    (unpacked paper-5)\n",
    "    (unpacked paper-6)\n",
    "    (unpacked paper-7)\n",
    "  )\n",
    "  (:goal (and\n",
    "    (satisfied loc-1)\n",
    "    (satisfied loc-2)\n",
    "    (satisfied loc-3)\n",
    "    (satisfied loc-4)\n",
    "  ))\n",
    ")'''\n",
    "\n",
    "    return domain_str, problem_str\n"
   ]
  },
  {
   "cell_type": "code",
   "execution_count": 31,
   "id": "62518d81-30a6-4fff-b5f7-32a87a9af9e5",
   "metadata": {},
   "outputs": [
    {
     "data": {
      "text/html": [
       "<div class=\"alert alert-success\">\n",
       "        <strong>Test passed!!</strong>\n",
       "        </div>"
      ]
     },
     "metadata": {},
     "output_type": "display_data"
    },
    {
     "name": "stderr",
     "output_type": "stream",
     "text": [
      ".\n",
      "----------------------------------------------------------------------\n",
      "Ran 1 test in 0.098s\n",
      "\n",
      "OK\n"
     ]
    }
   ],
   "source": [
    "# Test 9\n",
    "Grader.run_single_test_inline(TestPSet4, \"test_09_pddl_warmup\", locals())"
   ]
  },
  {
   "cell_type": "markdown",
   "id": "0a117f76-5128-4679-8bea-125881476ac6",
   "metadata": {},
   "source": [
    "### <a name=\"heuristics\"></a> 3C. Planning Heuristics (10 points)\n",
    "\n",
    "Let's now compare different search algorithms and heuristics.\n",
    "\n",
    "Let's consider two of the search algorithms available in pyperplan:\n",
    "`astar, gbf`.\n",
    "\n",
    "And the following heuristics: `blind, hadd, hmax, hff, lmcut`. `blind`, `hmax` and `lmcut` are admissible; `hadd` and `hff` are not.\n",
    "\n",
    "Unfortunately the documentation for pyperplan is limited at the moment, but if you\n",
    "are curious to learn more about its internals, the code is open-sourced on [this GitHub repo](https://github.com/aibasel/pyperplan)."
   ]
  },
  {
   "cell_type": "markdown",
   "id": "a1dea917",
   "metadata": {},
   "source": [
    "We have given you a set of blocks planning problem of different complexity `BW_BLOCKS_PROBLEM_1` to `BW_BLOCKS_PROBLEM_6`.\n",
    "You can use the function `test_run_planning` to test the different combinations of search and heuristic\n",
    "on different problems. There is also a helper function  to plot the result.\n",
    "\n",
    "If planning takes more than 30 seconds, just kill the process."
   ]
  },
  {
   "cell_type": "code",
   "execution_count": 32,
   "id": "f5eec20c-433a-4ee1-9b3e-755b78d3a2e0",
   "metadata": {},
   "outputs": [],
   "source": [
    "BW_BLOCKS_PROBLEM_1 = \"\"\"(define (problem bw-simple)\n",
    "  (:domain prodigy-bw)\n",
    "  (:objects A B C)\n",
    "  (:init (clear a) (handempty) (on a b) (ontable b))\n",
    "  (:goal (and (ontable a) (clear b))))\n",
    "\"\"\"\n",
    "\n",
    "BW_BLOCKS_PROBLEM_2 = \"\"\"(define (problem bw-sussman)\n",
    "  (:domain prodigy-bw)\n",
    "  (:objects A B C)\n",
    "  (:init (ontable a) (ontable b) (on c a)\n",
    "                (clear b) (clear c) (handempty))\n",
    "  (:goal (and (on a b) (on b c))))\n",
    "\"\"\"\n",
    "\n",
    "BW_BLOCKS_PROBLEM_3 = \"\"\"(define (problem bw-large-a)\n",
    "  (:domain prodigy-bw)\n",
    "  (:objects 1 2 3 4 5 6 7 8 9)\n",
    "  (:init (handempty)\n",
    "         (on 3 2)\n",
    "         (on 2 1)\n",
    "         (ontable 1)\n",
    "         (on 5 4)\n",
    "         (ontable 4)\n",
    "         (on 9 8)\n",
    "         (on 8 7)\n",
    "         (on 7 6)\n",
    "         (ontable 6)\n",
    "         (clear 3)\n",
    "         (clear 5)\n",
    "         (clear 9))\n",
    "  (:goal (and\n",
    "          (on 1 5)\n",
    "          (ontable 5)\n",
    "          (on 8 9)\n",
    "          (on 9 4)\n",
    "          (ontable 4)\n",
    "          (on 2 3)\n",
    "          (on 3 7)\n",
    "          (on 7 6)\n",
    "          (ontable 6)\n",
    "          (clear 1)\n",
    "          (clear 8)\n",
    "          (clear 2)\n",
    "          )))\n",
    "\"\"\"\n",
    "\n",
    "BW_BLOCKS_PROBLEM_4 = \"\"\"(define (problem bw-large-b)\n",
    "  (:domain prodigy-bw)\n",
    "  (:objects 1 2 3 4 5 6 7 8 9 10 11)\n",
    "  (:init (handempty)\n",
    "         (on 3 2)\n",
    "         (on 2 1)\n",
    "         (ontable 1)\n",
    "         (on 11 10)\n",
    "         (on 10 5)\n",
    "         (on 5 4)\n",
    "         (ontable 4)\n",
    "         (on 9 8)\n",
    "         (on 8 7)\n",
    "         (on 7 6)\n",
    "         (ontable 6)\n",
    "         (clear 3)\n",
    "         (clear 11)\n",
    "         (clear 9))\n",
    "  (:goal (and\n",
    "          (on 1 5)\n",
    "          (on 5 10)\n",
    "          (ontable 10)\n",
    "          (on 8 9)\n",
    "          (on 9 4)\n",
    "          (ontable 4)\n",
    "          (on 2 3)\n",
    "          (on 3 11)\n",
    "          (on 11 7)\n",
    "          (on 7 6)\n",
    "          (ontable 6)\n",
    "          (clear 1)\n",
    "          (clear 8)\n",
    "          (clear 2)\n",
    "          )))\n",
    "\"\"\"\n",
    "\n",
    "BW_BLOCKS_PROBLEM_5 = \"\"\"(define (problem bw-large-c)\n",
    "  (:domain prodigy-bw)\n",
    "  (:objects 1 2 3 4 5 6 7 8 9 10 11 12 13 14 15)\n",
    "  (:init (handempty)\n",
    "         (on 3 2)\n",
    "         (on 2 1)\n",
    "         (on 1 12)\n",
    "         (on 12 13)\n",
    "         (ontable 13)\n",
    "         (on 11 10)\n",
    "         (on 10 5)\n",
    "         (on 5 4)\n",
    "         (on 4 14)\n",
    "         (on 14 15)\n",
    "         (ontable 15)\n",
    "         (on 9 8)\n",
    "         (on 8 7)\n",
    "         (on 7 6)\n",
    "         (ontable 6)\n",
    "         (clear 3)\n",
    "         (clear 11)\n",
    "         (clear 9))\n",
    "  (:goal (and\n",
    "          (on 14 1)\n",
    "          (on 1 5)\n",
    "          (on 5 10)\n",
    "          (ontable 10)\n",
    "          (on 15 13)\n",
    "          (on 13 8)\n",
    "          (on 8 9)\n",
    "          (on 9 4)\n",
    "          (ontable 4)\n",
    "          (on 12 2)\n",
    "          (on 2 3)\n",
    "          (on 3 11)\n",
    "          (on 11 7)\n",
    "          (on 7 6)\n",
    "          (ontable 6)\n",
    "          (clear 14)\n",
    "          (clear 15)\n",
    "          (clear 12)\n",
    "          )))\n",
    "\n",
    "\"\"\"\n",
    "\n",
    "BW_BLOCKS_PROBLEM_6 = \"\"\"(define (problem bw-large-d)\n",
    "  (:domain prodigy-bw)\n",
    "  (:objects 1 2 3 4 5 6 7 8 9 10 11 12 13 14 15 16 17 18 19)\n",
    "  (:init (handempty)\n",
    "         (on 1 12)\n",
    "         (on 12 13)\n",
    "         (ontable 13)\n",
    "         (on 11 10)\n",
    "         (on 10 5)\n",
    "         (on 5 4)\n",
    "         (on 4 14)\n",
    "         (on 14 15)\n",
    "         (ontable 15)\n",
    "         (on 9 8)\n",
    "         (on 8 7)\n",
    "         (on 7 6)\n",
    "         (ontable 6)\n",
    "         (on 19 18)\n",
    "         (on 18 17)\n",
    "         (on 17 16)\n",
    "         (on 16 3)\n",
    "         (on 3 2)\n",
    "         (ontable 2)\n",
    "         (clear 1)\n",
    "         (clear 11)\n",
    "         (clear 9)\n",
    "         (clear 19))\n",
    "  (:goal (and\n",
    "          (on 17 18)\n",
    "          (on 18 19)\n",
    "          (on 19 14)\n",
    "          (on 14 1)\n",
    "          (on 1 5)\n",
    "          (on 5 10)\n",
    "          (ontable 10)\n",
    "          (on 15 13)\n",
    "          (on 13 8)\n",
    "          (on 8 9)\n",
    "          (on 9 4)\n",
    "          (ontable 4)\n",
    "          (on 12 2)\n",
    "          (on 2 3)\n",
    "          (on 3 16)\n",
    "          (on 16 11)\n",
    "          (on 11 7)\n",
    "          (on 7 6)\n",
    "          (ontable 6)\n",
    "          (clear 17)\n",
    "          (clear 15)\n",
    "          (clear 12)\n",
    "          )))\n",
    "\"\"\"\n",
    "BW_BLOCKS_PROBLEMS = [\n",
    "    BW_BLOCKS_PROBLEM_1, BW_BLOCKS_PROBLEM_2, BW_BLOCKS_PROBLEM_3,\n",
    "    BW_BLOCKS_PROBLEM_4, BW_BLOCKS_PROBLEM_5, BW_BLOCKS_PROBLEM_6\n",
    "]"
   ]
  },
  {
   "cell_type": "markdown",
   "id": "a0991639-6629-4a43-a147-727f3a25ebf4",
   "metadata": {},
   "source": [
    "We have created some helper functions to plot the running time and plan length of certain search algorithms and heuristics. You can use the `test_all_combinations` function in the following code block to get the planning results."
   ]
  },
  {
   "cell_type": "code",
   "execution_count": 33,
   "id": "4fb48840-1cfa-430c-9df6-fac64356f780",
   "metadata": {},
   "outputs": [
    {
     "data": {
      "text/plain": [
       "<module 'logging' from '/usr/lib/python3.10/logging/__init__.py'>"
      ]
     },
     "execution_count": 33,
     "metadata": {},
     "output_type": "execute_result"
    }
   ],
   "source": [
    "import itertools, sys, logging, importlib\n",
    "\n",
    "\n",
    "def test_run_planning(domain_pddl_str,\n",
    "                      problem_pddl_id,\n",
    "                      search_alg_name,\n",
    "                      heuristic_name,\n",
    "                      save_dict=None):\n",
    "    plan, run_time = run_planning(domain_pddl_str,\n",
    "                                  BW_BLOCKS_PROBLEMS[problem_pddl_id - 1],\n",
    "                                  search_alg_name,\n",
    "                                  heuristic_name,\n",
    "                                  return_time=True)\n",
    "    print(f'Run time\\t {run_time:.4f}\\t Plan length\\t {len(plan)}')\n",
    "    save_dict[(search_alg_name, heuristic_name,\n",
    "               problem_pddl_id)] = [run_time, len(plan)]\n",
    "    return len(plan), run_time\n",
    "\n",
    "\n",
    "def plot_result(result, timeout):\n",
    "    import matplotlib.pyplot as plt\n",
    "    all_problem_keys = result.keys()\n",
    "    for problem_id in range(1, 7):\n",
    "        problem_keys = [k for k in all_problem_keys if k[2] == problem_id]\n",
    "        problem_keys_str = list(map(lambda x: f'{x[0]}-{x[1]}', problem_keys))\n",
    "        bb = [\n",
    "            result[k][0] if result[k][0] != -1 else timeout\n",
    "            for k in problem_keys\n",
    "        ]\n",
    "        cc = [result[k][1] if result[k][0] != -1 else 0 for k in problem_keys]\n",
    "        fig, axes = plt.subplots(figsize=(10, 6), ncols=2, sharey=True)\n",
    "        axes[0].barh(problem_keys_str, bb, align='center', color='y')\n",
    "        axes[1].barh(problem_keys_str, cc, align='center', color='g')\n",
    "        axes[0].invert_xaxis()\n",
    "        plt.subplots_adjust(wspace=0)\n",
    "\n",
    "        axes[0].set(title='Planning time')\n",
    "        axes[1].set(title='Plan length')\n",
    "        fig.suptitle(f'Problem-{problem_id}')\n",
    "        plt.show()\n",
    "\n",
    "\n",
    "def test_all_combinations(timeout=5):\n",
    "    import multiprocess as mp\n",
    "    importlib.reload(logging)\n",
    "    logging.basicConfig(level=logging.INFO,\n",
    "                        handlers=[logging.StreamHandler(sys.stdout)])\n",
    "    problem_id = [i for i in range(1, 7)]\n",
    "    all_searchalgs = ['gbf', 'astar']\n",
    "    all_heuristics = ['blind', 'hmax', 'hadd', 'hff', 'lmcut']\n",
    "    result = {\n",
    "        (j, k, i): [-1, -1]\n",
    "        for (i, j,\n",
    "             k) in itertools.product(problem_id, all_searchalgs, all_heuristics)\n",
    "    }\n",
    "    result_savers = []\n",
    "    with mp.Manager() as manager:\n",
    "        for problem_i, search_algo, heuristic in itertools.product(\n",
    "                problem_id, all_searchalgs, all_heuristics):\n",
    "            print(f'problem_{problem_i}', search_algo, heuristic)\n",
    "            result_saver = manager.dict()\n",
    "            result_savers.append(result_saver)\n",
    "            planning_proc = mp.Process(target=test_run_planning,\n",
    "                                       args=(BW_BLOCKS_DOMAIN, problem_i,\n",
    "                                             search_algo, heuristic,\n",
    "                                             result_saver))\n",
    "            planning_proc.start()\n",
    "            planning_proc.join(timeout=timeout)\n",
    "            if planning_proc.is_alive():\n",
    "                planning_proc.terminate()\n",
    "                print(f'Terminate after {timeout} sec.')\n",
    "                print()\n",
    "                continue\n",
    "            print()\n",
    "        for res in result_savers:\n",
    "            result.update(res)\n",
    "    plot_result(result, timeout)\n",
    "\n",
    "\n",
    "# Uncomment the following line, set timeout limit to plot results\n",
    "# test_all_combinations(timeout=30)\n",
    "importlib.reload(logging)"
   ]
  },
  {
   "cell_type": "markdown",
   "id": "37680ef5-f7f9-47aa-ad57-af976f238009",
   "metadata": {},
   "source": [
    "Please identify which of these statement are True or False: \n",
    "\n",
    "1. Problems 1, 2 and 3 are easy (plan in less than 30 seconds) for all the methods.\n",
    "2. Problem 4 is easy (plan in less than 30 seconds) for all the non-blind heuristics.\n",
    "3. Problem 4 is easy (plan in less than 30 seconds) for all the non-blind heuristics, except `hmax`.\n",
    "4. The `blind` heuristic is generally hopeless for the bigger problems.\n",
    "5. `hadd` is generally much better (leads to faster planning) than `hmax`.\n",
    "6. `gbf-lmcut` will always find paths of the same length as `astar-lmcut` (given sufficient time).\n",
    "7. `astar-lmcut` will always find paths of the same length as `astar-hmax` (given sufficient time).\n",
    "8. `astar-lmcut` usually finds paths of the same length as `astar-hff` (in these problems).\n",
    "9. `gbf-hff` is a good compromise for planning speed and plan length (in these problems)."
   ]
  },
  {
   "cell_type": "code",
   "execution_count": 34,
   "id": "f3831609-306f-4724-9739-8ed774e17b95",
   "metadata": {},
   "outputs": [],
   "source": [
    "q10_answer = (True, False, True, True, True, False, True, True, True)"
   ]
  },
  {
   "cell_type": "code",
   "execution_count": 35,
   "id": "49acf6ff-afb3-497e-a81e-a274811efd6d",
   "metadata": {},
   "outputs": [
    {
     "data": {
      "text/html": [
       "<div class=\"alert alert-success\">\n",
       "        <strong>Test passed!!</strong>\n",
       "        </div>"
      ]
     },
     "metadata": {},
     "output_type": "display_data"
    },
    {
     "name": "stderr",
     "output_type": "stream",
     "text": [
      ".\n",
      "----------------------------------------------------------------------\n",
      "Ran 1 test in 0.002s\n",
      "\n",
      "OK\n"
     ]
    }
   ],
   "source": [
    "# Test 10\n",
    "Grader.run_single_test_inline(TestPSet4, \"test_10\", locals())"
   ]
  },
  {
   "cell_type": "markdown",
   "id": "1b561782",
   "metadata": {},
   "source": [
    "# <a name=\"part4\"></a> Time Spent on Pset (5 points)\n",
    "\n",
    "Please use [this form](https://forms.gle/NXSutgpy3fEtJ8Sw9) to tell us how long you spent on this pset. After you submit the form, the form will give you a confirmation word. Please enter that confirmation word below to get an extra 5 points. "
   ]
  },
  {
   "cell_type": "code",
   "execution_count": 36,
   "id": "c7ce5556",
   "metadata": {},
   "outputs": [],
   "source": [
    "form_confirmation_word = \"Dunkin Donuts\""
   ]
  },
  {
   "cell_type": "code",
   "execution_count": 37,
   "id": "e37628cf",
   "metadata": {},
   "outputs": [
    {
     "data": {
      "text/html": [
       "<div class=\"alert alert-success\">\n",
       "        <strong>Test passed!!</strong>\n",
       "        </div>"
      ]
     },
     "metadata": {},
     "output_type": "display_data"
    },
    {
     "data": {
      "text/html": [
       "<div class=\"alert alert-success\">\n",
       "        <strong>Test passed!!</strong>\n",
       "        </div>"
      ]
     },
     "metadata": {},
     "output_type": "display_data"
    },
    {
     "data": {
      "text/html": [
       "<div class=\"alert alert-success\">\n",
       "        <strong>Test passed!!</strong>\n",
       "        </div>"
      ]
     },
     "metadata": {},
     "output_type": "display_data"
    },
    {
     "data": {
      "text/html": [
       "<div class=\"alert alert-success\">\n",
       "        <strong>Test passed!!</strong>\n",
       "        </div>"
      ]
     },
     "metadata": {},
     "output_type": "display_data"
    },
    {
     "data": {
      "text/html": [
       "<div class=\"alert alert-success\">\n",
       "        <strong>Test passed!!</strong>\n",
       "        </div>"
      ]
     },
     "metadata": {},
     "output_type": "display_data"
    },
    {
     "data": {
      "text/html": [
       "<div class=\"alert alert-success\">\n",
       "        <strong>Test passed!!</strong>\n",
       "        </div>"
      ]
     },
     "metadata": {},
     "output_type": "display_data"
    },
    {
     "data": {
      "text/html": [
       "<div class=\"alert alert-success\">\n",
       "        <strong>Test passed!!</strong>\n",
       "        </div>"
      ]
     },
     "metadata": {},
     "output_type": "display_data"
    },
    {
     "data": {
      "text/html": [
       "<div class=\"alert alert-success\">\n",
       "        <strong>Test passed!!</strong>\n",
       "        </div>"
      ]
     },
     "metadata": {},
     "output_type": "display_data"
    },
    {
     "data": {
      "text/html": [
       "<div class=\"alert alert-success\">\n",
       "        <strong>Test passed!!</strong>\n",
       "        </div>"
      ]
     },
     "metadata": {},
     "output_type": "display_data"
    },
    {
     "name": "stdout",
     "output_type": "stream",
     "text": [
      "Total score is 95/95.\n",
      "\n",
      "Score for test_01_naive_search (principles_of_autonomy.notebook_tests.pset_4.TestPSet4) is 15/15.\n",
      "\n",
      "Score for test_02_backtracking_search (principles_of_autonomy.notebook_tests.pset_4.TestPSet4) is 10/10.\n",
      "\n",
      "Score for test_03_forward_checking (principles_of_autonomy.notebook_tests.pset_4.TestPSet4) is 20/20.\n",
      "\n",
      "Score for test_04 (principles_of_autonomy.notebook_tests.pset_4.TestPSet4) is 5/5.\n",
      "\n",
      "Score for test_05 (principles_of_autonomy.notebook_tests.pset_4.TestPSet4) is 5/5.\n",
      "\n",
      "Score for test_06 (principles_of_autonomy.notebook_tests.pset_4.TestPSet4) is 5/5.\n",
      "\n",
      "Score for test_07 (principles_of_autonomy.notebook_tests.pset_4.TestPSet4) is 5/5.\n",
      "\n",
      "Score for test_08_planning_warmup (principles_of_autonomy.notebook_tests.pset_4.TestPSet4) is 5/5.\n",
      "\n",
      "Score for test_09_pddl_warmup (principles_of_autonomy.notebook_tests.pset_4.TestPSet4) is 10/10.\n",
      "\n",
      "Score for test_10 (principles_of_autonomy.notebook_tests.pset_4.TestPSet4) is 10/10.\n",
      "\n",
      "Score for test_11_form_word (principles_of_autonomy.notebook_tests.pset_4.TestPSet4) is 5/5.\n"
     ]
    }
   ],
   "source": [
    "# Run all tests\n",
    "Grader.grade_output([TestPSet4], [locals()], \"results.json\")\n",
    "Grader.print_test_results(\"results.json\")"
   ]
  },
  {
   "cell_type": "code",
   "execution_count": 38,
   "id": "92223926",
   "metadata": {},
   "outputs": [
    {
     "name": "stdout",
     "output_type": "stream",
     "text": [
      "Open-ended responses written to ProblemSet04_CSPs_Classical_Planning_release_responses_only.ipynb\n",
      "Compressed files in folder to ../ps4/ps4.zip (submit this to Gradescope)\n"
     ]
    }
   ],
   "source": [
    "# Make sure you save the notebook before running this cell so that the most updated version is zipped!\n",
    "Grader.prepare_submission(\"ProblemSet04_CSPs_Classical_Planning_release\")"
   ]
  },
  {
   "cell_type": "code",
   "execution_count": null,
   "id": "120ff211-1177-4171-b745-a07dfbfd868f",
   "metadata": {},
   "outputs": [],
   "source": []
  }
 ],
 "metadata": {
  "colab": {
   "name": "hw04.ipynb",
   "provenance": []
  },
  "kernelspec": {
   "display_name": "Python 3 (ipykernel)",
   "language": "python",
   "name": "python3"
  },
  "language_info": {
   "codemirror_mode": {
    "name": "ipython",
    "version": 3
   },
   "file_extension": ".py",
   "mimetype": "text/x-python",
   "name": "python",
   "nbconvert_exporter": "python",
   "pygments_lexer": "ipython3",
   "version": "3.10.6"
  }
 },
 "nbformat": 4,
 "nbformat_minor": 5
}
