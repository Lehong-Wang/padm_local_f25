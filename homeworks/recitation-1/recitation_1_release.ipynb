{
 "cells": [
  {
   "cell_type": "markdown",
   "id": "bc8cbaa6-fca3-487a-a75a-70cc48e68475",
   "metadata": {},
   "source": [
    "# 16.410 Principles of Autonomy Recitation 1\n",
    "\n",
    "This is an optional **ungraded** python refresher! All of the grading in this notebook, and subsequent submission are *optional* and *is not part of the final grade*. The only purpose of the \"grading\" in this notebook (and on Gradescope) is to introduce students to the format and submission procedure the homeworks will use."
   ]
  },
  {
   "cell_type": "code",
   "execution_count": 2,
   "id": "4d072781-0ec0-4764-85d9-c9c5c6aa9acb",
   "metadata": {
    "editable": true,
    "slideshow": {
     "slide_type": ""
    },
    "tags": []
   },
   "outputs": [],
   "source": [
    "from principles_of_autonomy.grader import Grader\n",
    "from principles_of_autonomy.notebook_tests.recitation_1 import TestRecitation1"
   ]
  },
  {
   "cell_type": "markdown",
   "id": "3893be51-3b86-415c-ba02-84815f4a74fc",
   "metadata": {
    "editable": true,
    "slideshow": {
     "slide_type": ""
    },
    "tags": []
   },
   "source": [
    "# Functions and Loops"
   ]
  },
  {
   "cell_type": "markdown",
   "id": "12b7ede6-bec1-484c-8ba7-25ca826463c7",
   "metadata": {},
   "source": [
    "Write a function called `square_values` that takes in a list of numbers and returns a list of their squares. This function should use a `for` loop.\n",
    "\n",
    "*The function signature should be `square_values(input_list: list[int]) -> list[int]`*"
   ]
  },
  {
   "cell_type": "code",
   "execution_count": 2,
   "id": "b0ce908b-ffac-44dc-958f-65ea7ecc65c4",
   "metadata": {
    "editable": true,
    "slideshow": {
     "slide_type": ""
    },
    "tags": []
   },
   "outputs": [],
   "source": [
    "def square_values(input_list: list[int]) -> list[int]:\n",
    "    raise NotImplementedError()"
   ]
  },
  {
   "cell_type": "code",
   "execution_count": 3,
   "id": "3af430f7-4637-4044-8fa4-c9be8bb35700",
   "metadata": {},
   "outputs": [
    {
     "name": "stdout",
     "output_type": "stream",
     "text": [
      "Produced output list [1, 4, 9, 16] from input list [1, 2, 3, 4]\n"
     ]
    }
   ],
   "source": [
    "# Try it out! \n",
    "input_list = [1,2,3,4]\n",
    "output_list = square_values(input_list)\n",
    "print(f\"Produced output list {output_list} from input list {input_list}\")"
   ]
  },
  {
   "cell_type": "code",
   "execution_count": 4,
   "id": "c68fd208-08ea-4da9-9a9b-71d9ce87df7c",
   "metadata": {
    "editable": true,
    "slideshow": {
     "slide_type": ""
    },
    "tags": []
   },
   "outputs": [
    {
     "name": "stderr",
     "output_type": "stream",
     "text": [
      ".\n",
      "----------------------------------------------------------------------\n",
      "Ran 1 test in 0.003s\n",
      "\n",
      "OK\n"
     ]
    }
   ],
   "source": [
    "# Make sure it passes the test! \n",
    "Grader.run_single_test_inline(TestRecitation1, \"test_1_check_square_function\", locals())"
   ]
  },
  {
   "cell_type": "markdown",
   "id": "eecaf19b-946d-427f-8e69-1430afbb979a",
   "metadata": {},
   "source": [
    "# Numpy for vectorized operations"
   ]
  },
  {
   "cell_type": "markdown",
   "id": "480668b8-111a-424d-9f58-2978d6930bd0",
   "metadata": {},
   "source": [
    "Looping through large lists can be slow. How long does it take our function to work on a large list?"
   ]
  },
  {
   "cell_type": "code",
   "execution_count": 5,
   "id": "45c852c5-fe90-45ae-b539-67406b02c6f9",
   "metadata": {},
   "outputs": [
    {
     "name": "stdout",
     "output_type": "stream",
     "text": [
      "2.3 ms ± 23.9 μs per loop (mean ± std. dev. of 7 runs, 100 loops each)\n"
     ]
    }
   ],
   "source": [
    "large_input = range(10000)\n",
    "%timeit square_values(large_input)"
   ]
  },
  {
   "cell_type": "markdown",
   "id": "73693bba-87c4-4569-a47d-7648e289d2a2",
   "metadata": {},
   "source": [
    "Dang, that's slow.\n",
    "\n",
    "[NumPy](https://numpy.org/doc/stable/user/absolute_beginners.html) is an important package for scientific computing in Python, and gives us access to multi-dimensional arrays and operations on these arrays. Often these operations are ``vectorized'', meaning the computer's CPU can apply the same operation to many items in the array at once. Let's see how NumPy can be used, and then use it to rewrite our `square_values` function."
   ]
  },
  {
   "cell_type": "code",
   "execution_count": 6,
   "id": "4b23aceb-bc9d-4914-a2e1-9df1f96d84fa",
   "metadata": {},
   "outputs": [
    {
     "name": "stdout",
     "output_type": "stream",
     "text": [
      "starting with input lists: \n",
      "\t demo_array: [5 6 7 8]\n",
      "\t another_np_array: [0 1 2 3]\n",
      "adding 5 to demo_array produces [10 11 12 13]\n",
      "dividing demo_array by 3 produces [1.  1.2 1.4 1.6]\n",
      "adding the arrays together produces [ 5  7  9 11]\n"
     ]
    }
   ],
   "source": [
    "# import NumPy\n",
    "import numpy as np\n",
    "\n",
    "# create an array\n",
    "a_regular_old_list = [5,6,7,8]\n",
    "demo_array = np.asarray(a_regular_old_list)\n",
    "another_np_array = np.arange(0,4)\n",
    "print(\"starting with input lists: \")\n",
    "print(f\"\\t demo_array: {demo_array}\")\n",
    "print(f\"\\t another_np_array: {another_np_array}\")\n",
    "\n",
    "# add something to the list \n",
    "print(f\"adding 5 to demo_array produces {demo_array + 5}\")\n",
    "print(f\"dividing demo_array by 3 produces {demo_array / 5}\")\n",
    "print(f\"adding the arrays together produces {demo_array + another_np_array}\")"
   ]
  },
  {
   "cell_type": "markdown",
   "id": "043c93a0-4a53-407f-b95b-14719f3bcd59",
   "metadata": {},
   "source": [
    "Now that we've been introduced to NumPy, create a new function `fast_square_values`, that uses NumPy (and no loops) to square all of the values passed to it."
   ]
  },
  {
   "cell_type": "code",
   "execution_count": 7,
   "id": "9e35b90d-6c2c-448d-9142-a49d12bce7a7",
   "metadata": {},
   "outputs": [],
   "source": [
    "def fast_square_values(input_list: np.ndarray) -> np.ndarray:\n",
    "    raise NotImplementedError()"
   ]
  },
  {
   "cell_type": "code",
   "execution_count": 8,
   "id": "ce8ad1ad-739b-4ffc-8bfd-f4f0c128c18e",
   "metadata": {},
   "outputs": [
    {
     "name": "stderr",
     "output_type": "stream",
     "text": [
      ".\n",
      "----------------------------------------------------------------------\n",
      "Ran 1 test in 0.003s\n",
      "\n",
      "OK\n"
     ]
    }
   ],
   "source": [
    "Grader.run_single_test_inline(TestRecitation1, \"test_2_check_fast_square_function\", locals())"
   ]
  },
  {
   "cell_type": "code",
   "execution_count": 9,
   "id": "e012b9eb-cdf9-4216-8f1c-30eea55ce450",
   "metadata": {},
   "outputs": [
    {
     "name": "stdout",
     "output_type": "stream",
     "text": [
      "1.27 ms ± 166 μs per loop (mean ± std. dev. of 7 runs, 1,000 loops each)\n",
      "3.78 μs ± 39.2 ns per loop (mean ± std. dev. of 7 runs, 100,000 loops each)\n"
     ]
    }
   ],
   "source": [
    "# How does it compare to our old function? This may take a second to run\n",
    "large_np_input = np.arange(0,10000)\n",
    "%timeit square_values(large_np_input)\n",
    "%timeit fast_square_values(large_np_input)"
   ]
  },
  {
   "cell_type": "markdown",
   "id": "4067acce-318e-4d1d-ad68-9cab1ab51974",
   "metadata": {},
   "source": [
    "# Class Basics"
   ]
  },
  {
   "cell_type": "markdown",
   "id": "5b2f581e-7f8a-473c-935d-6f1a4ff9a3b2",
   "metadata": {},
   "source": [
    "Classes collect attributes and functions related to a given object. Complete the ``Robot`` class below."
   ]
  },
  {
   "cell_type": "code",
   "execution_count": 10,
   "id": "90c6da11-707e-4577-a54e-013f9264a060",
   "metadata": {},
   "outputs": [],
   "source": [
    "class Robot:\n",
    "    # this function initalizes the class\n",
    "    def __init__(self, name: str, is_rational: bool, position: int = 0):\n",
    "        self.name = name\n",
    "        # assign the robot's is_rational and position property\n",
    "        raise NotImplementedError()\n",
    "\n",
    "    def move_left(self)->None:\n",
    "        \"\"\"\n",
    "        This function should move the robot left (subtract 1 from its current position)\n",
    "        if the robot is rational. If the robot is not, it should add one (moving to the right)\n",
    "        \"\"\"\n",
    "        raise NotImplementedError()\n",
    "\n",
    "    def move_right(self)->None:\n",
    "        \"\"\"\n",
    "        This function should do the oppisite of `move_left`\n",
    "        \"\"\"\n",
    "        raise NotImplementedError()\n",
    "\n",
    "    def reset(self)->None:\n",
    "        \"\"\"\n",
    "        This function resets the robot's position to 0\n",
    "        \"\"\"\n",
    "        raise NotImplementedError()\n",
    "\n",
    "    def get_position(self)->int:\n",
    "        \"\"\"\n",
    "        This function returns the robot's current position\n",
    "        \"\"\"\n",
    "        raise NotImplementedError()\n",
    "    \n",
    "    def print_position(self):\n",
    "        print(f\"{self.name}'s position is {self.get_position()}\")"
   ]
  },
  {
   "cell_type": "code",
   "execution_count": 11,
   "id": "9d4fe4e5-b5f2-45ff-b575-d0bbed478143",
   "metadata": {},
   "outputs": [
    {
     "name": "stdout",
     "output_type": "stream",
     "text": [
      "wall-eeee's position is -1\n"
     ]
    }
   ],
   "source": [
    "# Create a robot\n",
    "robot = Robot(\"wall-eeee\", False)\n",
    "# move \"right\" (position should now be -1\n",
    "robot.move_right()\n",
    "robot.print_position()"
   ]
  },
  {
   "cell_type": "code",
   "execution_count": 12,
   "id": "c17d87a9-1b80-4f43-9af4-bbec2a8ad565",
   "metadata": {},
   "outputs": [
    {
     "name": "stderr",
     "output_type": "stream",
     "text": [
      ".\n",
      "----------------------------------------------------------------------\n",
      "Ran 1 test in 0.001s\n",
      "\n",
      "OK\n"
     ]
    }
   ],
   "source": [
    "Grader.run_single_test_inline(TestRecitation1, \"test_3_robot_class\", locals())"
   ]
  },
  {
   "cell_type": "markdown",
   "id": "3a18323b-3aef-4379-8c19-59cd3b7ef6cf",
   "metadata": {},
   "source": [
    "# Plotting wall-eee's random walk"
   ]
  },
  {
   "cell_type": "markdown",
   "id": "32fb0fb3-0ba3-4606-8ff3-81afb43d7b7d",
   "metadata": {},
   "source": [
    "Often, we need to visualize things. [Matplotlib](https://matplotlib.org/stable/tutorials/pyplot.html#sphx-glr-tutorials-pyplot-py) is a common tool to reach for for this task. Let's use it to plot wall-eee's random walk (to the store, or some other destination)."
   ]
  },
  {
   "cell_type": "code",
   "execution_count": 13,
   "id": "e03d1923-b295-413f-9a4a-b9c9dd6b79be",
   "metadata": {},
   "outputs": [
    {
     "name": "stdout",
     "output_type": "stream",
     "text": [
      "Your lucky floating point number is 0.33111698391284927\n"
     ]
    }
   ],
   "source": [
    "# First, we need `randomness`\n",
    "\n",
    "a_random_number = np.random.rand()\n",
    "print(f\"Your lucky floating point number is {a_random_number}\")"
   ]
  },
  {
   "cell_type": "code",
   "execution_count": 14,
   "id": "7f9b001c-ff63-4e24-8a8e-41896ebc09dd",
   "metadata": {},
   "outputs": [],
   "source": [
    "def create_random_walk(robot: Robot, probability_left: float, max_iterations: int = 500):\n",
    "    \"\"\"\n",
    "    Perform a random walk of `max_iterations` time steps. At each time step, with `probability_left`, the robot calls \"move_left()\".\n",
    "    Record the robot's position and times, and return them.\n",
    "    \"\"\"\n",
    "    # make sure these two arrays are the same length\n",
    "    times = [] # fill with time values (0,1,....,max_iterations\n",
    "    positions = [] # fill with robot positions after each step\n",
    "\n",
    "    raise NotImplementedError()\n",
    "\n",
    "    assert len(times) == len(positions)\n",
    "    return times, positions"
   ]
  },
  {
   "cell_type": "code",
   "execution_count": 15,
   "id": "bd15a58d-1f5b-42d5-9711-5336a151f737",
   "metadata": {},
   "outputs": [],
   "source": [
    "times, positions = create_random_walk(robot, 0.5)"
   ]
  },
  {
   "cell_type": "code",
   "execution_count": 16,
   "id": "35eb2b49-49a1-40ae-9d4d-c814c1901b45",
   "metadata": {},
   "outputs": [
    {
     "data": {
      "image/png": "[encoded data removed]",
      "text/plain": [
       "<Figure size 640x480 with 1 Axes>"
      ]
     },
     "metadata": {},
     "output_type": "display_data"
    }
   ],
   "source": [
    "# plot the random walk\n",
    "import matplotlib.pyplot as plt\n",
    "\n",
    "fig, ax = plt.subplots()\n",
    "ax.plot(times,positions)\n",
    "ax.set_xlabel(\"Timestep\")\n",
    "ax.set_ylabel(f\"{robot.name}'s position\")\n",
    "ax.set_title(f\"{robot.name}'s random walk\")\n",
    "plt.show()"
   ]
  },
  {
   "cell_type": "code",
   "execution_count": 17,
   "id": "51d24647-198e-4315-9d4f-3b4c21b0488e",
   "metadata": {},
   "outputs": [
    {
     "name": "stdout",
     "output_type": "stream",
     "text": [
      "Total score is 15/15.\n",
      "\n",
      "Score for test_1_check_square_function (principles_of_autonomy.notebook_tests.recitation_1.TestRecitation1) is 5/5.\n",
      "\n",
      "Score for test_2_check_fast_square_function (principles_of_autonomy.notebook_tests.recitation_1.TestRecitation1) is 5/5.\n",
      "\n",
      "Score for test_3_robot_class (principles_of_autonomy.notebook_tests.recitation_1.TestRecitation1) is 5/5.\n"
     ]
    }
   ],
   "source": [
    "# Run all tests\n",
    "Grader.grade_output([TestRecitation1], [locals()], \"results.json\")\n",
    "Grader.print_test_results(\"results.json\")"
   ]
  },
  {
   "cell_type": "code",
   "execution_count": null,
   "id": "dd9cb88a-6ce9-4c40-af26-0ac1ff707073",
   "metadata": {},
   "outputs": [],
   "source": []
  }
 ],
 "metadata": {
  "kernelspec": {
   "display_name": "Python 3 (ipykernel)",
   "language": "python",
   "name": "python3"
  },
  "language_info": {
   "codemirror_mode": {
    "name": "ipython",
    "version": 3
   },
   "file_extension": ".py",
   "mimetype": "text/x-python",
   "name": "python",
   "nbconvert_exporter": "python",
   "pygments_lexer": "ipython3",
   "version": "3.10.6"
  }
 },
 "nbformat": 4,
 "nbformat_minor": 5
}