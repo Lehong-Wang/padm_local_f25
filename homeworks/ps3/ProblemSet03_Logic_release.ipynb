{
 "cells": [
  {
   "cell_type": "markdown",
   "id": "32eb0713",
   "metadata": {},
   "source": [
    "**This problem set is due Wednesday, October 1, 2025 at 11:59 pm. Please plan ahead and submit your work on time.**"
   ]
  },
  {
   "cell_type": "markdown",
   "id": "251e8452",
   "metadata": {
    "id": "251e8452"
   },
   "source": [
    "## Problem Set 03: Propositional Logic\n",
    "\n",
    "In this problem set, you will explore propositional logic concepts, logical inference, and state estimation. \n",
    "\n",
    "0. [Credit for Contributors (required)](#contributors)\n",
    "1. [Propositional Logic (30 points)](#proplogic)\n",
    "    1. [Model Checking (20 points)](#model_checking)\n",
    "    2. [Concepts in Logic (10 points)](#logic_concepts)\n",
    "2. [Propositional Logic Coding Problems (35 points)](#coding)\n",
    "    1. [Warmup (5 points)](#warmup)\n",
    "    2. [DPLL (30 points)](#dpll)\n",
    "3. [Logic for State Estimation (35 points)](#stateest)\n",
    "    1. [Sympy Warmup 1 (5 points)](#sympy1)\n",
    "    2. [Sympy Warmup 2 (5 points)](#sympy2)\n",
    "    3. [Search and Rescue Inference (25 points)](#searchrescue)\n",
    "4. [Time Spent on Pset (Bonus +5 points)](#part4)\n",
    "    \n",
    "**100 points + 5 bonus** total for Problem Set 3"
   ]
  },
  {
   "cell_type": "markdown",
   "id": "e6457164",
   "metadata": {
    "id": "e6457164"
   },
   "source": [
    "## Imports and Utilities"
   ]
  },
  {
   "cell_type": "code",
   "execution_count": 1,
   "id": "e3c0c4b1",
   "metadata": {},
   "outputs": [],
   "source": [
    "%load_ext autoreload\n",
    "%autoreload 2\n",
    "from principles_of_autonomy.grader import Grader\n",
    "from principles_of_autonomy.notebook_tests.pset_3 import TestPSet3\n",
    "\n",
    "import numpy as np\n",
    "import sympy"
   ]
  },
  {
   "cell_type": "markdown",
   "id": "4f2faab6",
   "metadata": {},
   "source": [
    "## <a name=\"contributors\"></a> 0. Credit for Contributors\n",
    "\n",
    "List the various students, lecture notes, or online resouces that helped you complete this problem set:\n",
    "\n",
    "Ex: I worked with Bob on the cat activity planning problem.\n",
    "\n",
    "<div class=\"alert alert-info\">\n",
    "Write your answer in the cell below this one.\n",
    "</div>"
   ]
  },
  {
   "cell_type": "markdown",
   "id": "a9eb867c",
   "metadata": {},
   "source": [
    "Looked at lecture notes and asked chatGPT for help with understanding concepts."
   ]
  },
  {
   "cell_type": "markdown",
   "id": "0427ad75-9572-4df5-8d85-fd6c4ed265e2",
   "metadata": {},
   "source": [
    "## <a name=\"proplogic\"></a> 1. Propositional Logic (30 points)\n",
    "\n",
    "### <a name=\"model_checking\"></a> 1.1 Model Checking (20 points)\n",
    "\n",
    "Let's explore proof by model checking.  We are interested in finding\n",
    "out which other sentences are **entailed** by the sentence $(A\n",
    "\\Rightarrow B) \\Rightarrow C$.  We can do this by comparing the sets\n",
    "of models (assignments of truth values to propositions) in which the\n",
    "sentences are true.\n",
    "\n",
    "Consider a domain with three propositional variables, $A$, $B$, and $C$.\n",
    "\n",
    "Recall that $M(\\gamma)$ is the set of models in which sentence $\\gamma$ is true. We can conclude that sentence $\\alpha$ entails sentence $\\beta$ via model-checking if: \n",
    "\n",
    "1. $M(\\alpha) \\subseteq M(\\beta)$\n",
    "2. $M(\\beta) \\subseteq M(\\alpha)$\n",
    "3. $M(\\alpha) \\subset M(\\beta)$\n",
    "4. $M(\\beta) \\subset M(\\alpha)$\n",
    "5. $M(\\beta) \\equiv M(\\alpha)$\n",
    "6. $|M(\\beta)| > |M(\\alpha)|$"
   ]
  },
  {
   "cell_type": "code",
   "execution_count": 2,
   "id": "61e95067-949b-44e6-919c-49667f058a62",
   "metadata": {},
   "outputs": [],
   "source": [
    "## Enter your answer by changing the assignment expression below, e.g., q1_answer = 3\n",
    "q1_answer = 1\n",
    "# raise NotImplementedError() "
   ]
  },
  {
   "cell_type": "code",
   "execution_count": 3,
   "id": "9d0d3bd3-756c-4d04-99d3-2b7238e975dc",
   "metadata": {},
   "outputs": [
    {
     "data": {
      "text/html": [
       "<div class=\"alert alert-success\">\n",
       "        <strong>Test passed!!</strong>\n",
       "        </div>"
      ]
     },
     "metadata": {},
     "output_type": "display_data"
    },
    {
     "name": "stderr",
     "output_type": "stream",
     "text": [
      ".\n",
      "----------------------------------------------------------------------\n",
      "Ran 1 test in 0.002s\n",
      "\n",
      "OK\n"
     ]
    }
   ],
   "source": [
    "# test_1\n",
    "Grader.run_single_test_inline(TestPSet3, \"test_01\", locals())"
   ]
  },
  {
   "cell_type": "markdown",
   "id": "39b17ede-76b7-43c4-ad95-4f12765daec2",
   "metadata": {},
   "source": [
    "Give a tuple of True and False values for whether $(A \\Rightarrow B) \\Rightarrow C$ is true in each model:\n",
    "1. A=**t**, B=**t**, C=**t**\n",
    "2. A=**t**, B=**t**, C=<font color=red>**f**</font>\n",
    "3. A=**t**, B=<font color=red>**f**</font>, C=**t**\n",
    "4. A=**t**, B=<font color=red>**f**</font>, C=<font color=red>**f**</font>\n",
    "5. A=<font color=red>**f**</font>, B=**t**, C=**t**\n",
    "6. A=<font color=red>**f**</font>, B=**t**, C=<font color=red>**f**</font>\n",
    "7. A=<font color=red>**f**</font>, B=<font color=red>**f**</font>, C=**t**\n",
    "8. A=<font color=red>**f**</font>, B=<font color=red>**f**</font>, C=<font color=red>**f**</font>"
   ]
  },
  {
   "cell_type": "code",
   "execution_count": 4,
   "id": "d9d3fb32-d8fc-4162-824d-db83152db37f",
   "metadata": {},
   "outputs": [],
   "source": [
    "## Enter your answer by changing the assignment expression below, e.g., q2_answer = (True, False, True, ...)\n",
    "## Your answer should be a tuple of 8 True / False values. \n",
    "q2_answer = (True, False, True, True, True, False, True, False)\n",
    "# raise NotImplementedError() "
   ]
  },
  {
   "cell_type": "code",
   "execution_count": 5,
   "id": "f6724e39-77d6-41e4-aa99-68825ac7123b",
   "metadata": {},
   "outputs": [
    {
     "data": {
      "text/html": [
       "<div class=\"alert alert-success\">\n",
       "        <strong>Test passed!!</strong>\n",
       "        </div>"
      ]
     },
     "metadata": {},
     "output_type": "display_data"
    },
    {
     "name": "stderr",
     "output_type": "stream",
     "text": [
      ".\n",
      "----------------------------------------------------------------------\n",
      "Ran 1 test in 0.001s\n",
      "\n",
      "OK\n"
     ]
    }
   ],
   "source": [
    "# test_2\n",
    "Grader.run_single_test_inline(TestPSet3, \"test_02\", locals())"
   ]
  },
  {
   "cell_type": "markdown",
   "id": "f9d9a345-0f7e-484f-88b9-d92f56bf14e1",
   "metadata": {},
   "source": [
    "Give a tuple of True and False values for whether $A \\Rightarrow (B \\Rightarrow C)$ is true in each model:\n",
    "\n",
    "1. A=**t**, B=**t**, C=**t**\n",
    "2. A=**t**, B=**t**, C=<font color=red>**f**</font>\n",
    "3. A=**t**, B=<font color=red>**f**</font>, C=**t**\n",
    "4. A=**t**, B=<font color=red>**f**</font>, C=<font color=red>**f**</font>\n",
    "5. A=<font color=red>**f**</font>, B=**t**, C=**t**\n",
    "6. A=<font color=red>**f**</font>, B=**t**, C=<font color=red>**f**</font>\n",
    "7. A=<font color=red>**f**</font>, B=<font color=red>**f**</font>, C=**t**\n",
    "8. A=<font color=red>**f**</font>, B=<font color=red>**f**</font>, C=<font color=red>**f**</font>"
   ]
  },
  {
   "cell_type": "code",
   "execution_count": 6,
   "id": "12dd2491-c478-4d8c-ac15-fd0f770bdfa1",
   "metadata": {},
   "outputs": [],
   "source": [
    "## Enter your answer by changing the assignment expression below, e.g., q3_answer = (True, False, True, ...)\n",
    "## Your answer should be a tuple of 8 True / False values. \n",
    "q3_answer = (True, False, True, True, True, True, True, True)\n",
    "# raise NotImplementedError() "
   ]
  },
  {
   "cell_type": "code",
   "execution_count": 7,
   "id": "cf557f5d-7787-48a4-aae2-c0d380cd9be6",
   "metadata": {},
   "outputs": [
    {
     "data": {
      "text/html": [
       "<div class=\"alert alert-success\">\n",
       "        <strong>Test passed!!</strong>\n",
       "        </div>"
      ]
     },
     "metadata": {},
     "output_type": "display_data"
    },
    {
     "name": "stderr",
     "output_type": "stream",
     "text": [
      ".\n",
      "----------------------------------------------------------------------\n",
      "Ran 1 test in 0.001s\n",
      "\n",
      "OK\n"
     ]
    }
   ],
   "source": [
    "# test_3\n",
    "Grader.run_single_test_inline(TestPSet3, \"test_03\", locals())"
   ]
  },
  {
   "cell_type": "markdown",
   "id": "9b86e17f-2e88-4894-8cd4-4a7c3846262c",
   "metadata": {},
   "source": [
    "Give a tuple of True and False values for whether each statement is true. \n",
    "\n",
    "1. $(A \\Rightarrow B) \\Rightarrow C$  and $A \\Rightarrow (B \\Rightarrow C)$ are equivalent\n",
    "2. $(A \\Rightarrow B) \\Rightarrow C$  entails $A \\Rightarrow (B \\Rightarrow C)$\n",
    "3. $A \\Rightarrow (B \\Rightarrow C)$ entails $(A \\Rightarrow B) \\Rightarrow C$\n"
   ]
  },
  {
   "cell_type": "code",
   "execution_count": 8,
   "id": "2041c824-6b1e-4ca8-99cc-14d38467b03f",
   "metadata": {},
   "outputs": [],
   "source": [
    "## Enter your answer by changing the assignment expression below, e.g., q4_answer = (True, False, True)\n",
    "## Your answer should be a tuple of 3 True / False values. \n",
    "q4_answer = (False, True, False)\n",
    "# raise NotImplementedError() "
   ]
  },
  {
   "cell_type": "code",
   "execution_count": 9,
   "id": "33810982-11af-461c-942c-d94b2753272d",
   "metadata": {},
   "outputs": [
    {
     "data": {
      "text/html": [
       "<div class=\"alert alert-success\">\n",
       "        <strong>Test passed!!</strong>\n",
       "        </div>"
      ]
     },
     "metadata": {},
     "output_type": "display_data"
    },
    {
     "name": "stderr",
     "output_type": "stream",
     "text": [
      ".\n",
      "----------------------------------------------------------------------\n",
      "Ran 1 test in 0.002s\n",
      "\n",
      "OK\n"
     ]
    }
   ],
   "source": [
    "# test_4\n",
    "Grader.run_single_test_inline(TestPSet3, \"test_04\", locals())"
   ]
  },
  {
   "cell_type": "markdown",
   "id": "954617e3-7b1e-456c-a966-69581c445bbb",
   "metadata": {},
   "source": [
    "### <a name=\"logic_concepts\"></a> 1.2 Concepts in Logic (10 points)\n",
    "\n",
    "Consider a domain with propositions A, B, C, and D, and the particular model $m = \\{A = t, B = f, C = t, D = f\\}$. For each of these sentences, indicate whether it is valid ('V'), unsatisifiable ('U'), not valid but true in m ('T'), or not unsatisifiable but false in m ('F'). A sentence is valid if it is true in all possible models. We will use the letters 'V', 'U', 'T' and 'F' for each of those indicators. \n",
    "\n",
    "1. $A \\Rightarrow \\neg A$\n",
    "2. $\\neg (A \\wedge B) \\Rightarrow (\\neg A \\vee \\neg B)$\n",
    "3. $B \\Rightarrow C \\wedge D$\n",
    "4. $A \\Rightarrow C \\wedge D$\n",
    "5. $(A \\wedge C) \\Leftrightarrow (B \\wedge  D)$\n",
    "6. $A \\vee B \\vee C \\vee D$\n",
    "7. $D \\Leftrightarrow \\neg D$"
   ]
  },
  {
   "cell_type": "code",
   "execution_count": 10,
   "id": "f485000d-6577-45c4-8cca-3b544b242340",
   "metadata": {},
   "outputs": [],
   "source": [
    "## Enter your answer by changing the assignment expression below, e.g., q4_answer = ('V', 'U', 'T', ...)\n",
    "## Your answer should be a tuple of 7 characters. \n",
    "q5_answer = ('F', 'V', 'T', 'F', 'F', 'T', 'U')\n",
    "# raise NotImplementedError() "
   ]
  },
  {
   "cell_type": "code",
   "execution_count": 11,
   "id": "261952f6-ac7f-460b-bac7-11485470d789",
   "metadata": {},
   "outputs": [
    {
     "data": {
      "text/html": [
       "<div class=\"alert alert-success\">\n",
       "        <strong>Test passed!!</strong>\n",
       "        </div>"
      ]
     },
     "metadata": {},
     "output_type": "display_data"
    },
    {
     "name": "stderr",
     "output_type": "stream",
     "text": [
      ".\n",
      "----------------------------------------------------------------------\n",
      "Ran 1 test in 0.002s\n",
      "\n",
      "OK\n"
     ]
    }
   ],
   "source": [
    "# test_5\n",
    "Grader.run_single_test_inline(TestPSet3, \"test_05\", locals())"
   ]
  },
  {
   "cell_type": "markdown",
   "id": "249ac94d-2301-4c5b-aa83-aa9a023250fc",
   "metadata": {},
   "source": [
    "## <a name=\"coding\"></a> 2. Propositional Logic Coding Problems (35 points)"
   ]
  },
  {
   "cell_type": "markdown",
   "id": "e06270c7",
   "metadata": {
    "id": "e06270c7"
   },
   "source": [
    "In this problem, you will implement the DPLL algorithm we discussed in Lecture 6. Since the DPLL algorithm expects sentences in CNF form, we provide a few helper functions that you will make use of, which you should have a look at:"
   ]
  },
  {
   "cell_type": "code",
   "execution_count": 12,
   "id": "d265f047",
   "metadata": {
    "id": "d265f047"
   },
   "outputs": [],
   "source": [
    "def lit_to_var_val(literal: int) -> tuple[int, bool]:\n",
    "    \"\"\"Converts a literal into (variable, value).\n",
    "\n",
    "    Args:\n",
    "      literal: A nonzero int.\n",
    "\n",
    "    Returns:\n",
    "      variable: A positive int representing a variable.\n",
    "      value: True or False, i.e., positive or negative.\n",
    "    \"\"\"\n",
    "    return abs(literal), literal > 0\n",
    "\n",
    "\n",
    "def is_cnf_formula(formula: list) -> bool:\n",
    "    \"\"\"Checks whether the input is a valid CNF formula.\n",
    "\n",
    "    A formula is in valid CNF form if it is a list of lists of nonzero\n",
    "    integers with sign indicating whether the variable is negated.\n",
    "\n",
    "    You will not need to use this utility in your implementation,\n",
    "    but it may be useful to read to understand the CNF representation.\n",
    "    \"\"\"\n",
    "    if not isinstance(formula, list):\n",
    "        return False\n",
    "    if len(formula) == 0:\n",
    "        return True\n",
    "    clause = formula[0]\n",
    "    if not isinstance(clause, list):\n",
    "        return False\n",
    "    for literal in clause:\n",
    "        if not isinstance(literal, int):\n",
    "            return False\n",
    "        if literal == 0:\n",
    "            return False\n",
    "    if len(formula) == 1:\n",
    "        return True\n",
    "    return is_cnf_formula(formula[1:])\n",
    "\n",
    "\n",
    "def get_variables_in_cnf_formula(cnf_formula: list) -> list[int]:\n",
    "    \"\"\"Get a list of all variables in a CNF formula.\n",
    "\n",
    "    Args:\n",
    "      cnf_formula: A list of lists of nonzero ints.\n",
    "\n",
    "    Returns:\n",
    "      variables: A list of all variables that appear in\n",
    "        the formula.\n",
    "    \"\"\"\n",
    "    variables = set()\n",
    "    for clause in cnf_formula:\n",
    "        variables.update({lit_to_var_val(literal)[0] for literal in clause})\n",
    "    variables = sorted(variables)\n",
    "    return variables"
   ]
  },
  {
   "cell_type": "markdown",
   "id": "7929e5ea",
   "metadata": {
    "id": "7929e5ea"
   },
   "source": [
    "### <a name=\"warmup\"></a> 2.1 Warmup (5 points)\n",
    "\n",
    "In this problem, CNF formulas are represented as lists of lists of nonzero integers. The sign of the integer represents whether the corresponding proposition is negated or not. For example, the formula ((x1 or not x2) and (x3 or x2)) would be represented as [[1, -2], [3, 2]]. Complete the following function to confirm your understanding of this representation.\n",
    "\n",
    "For reference, our solution is **1** line(s) of code."
   ]
  },
  {
   "cell_type": "code",
   "execution_count": 13,
   "id": "1d3844e0",
   "metadata": {
    "id": "1d3844e0"
   },
   "outputs": [],
   "source": [
    "def warmup() -> list:\n",
    "    \"\"\"Return a list of lists of ints for the CNF formula:\n",
    "\n",
    "    ((x4 or not x5 or not x6) and (x6 or x5 or not x1) and (x2 or x3)).\n",
    "\n",
    "    Keep the same order as in the formula above.\n",
    "    \"\"\"\n",
    "    # raise NotImplementedError()\n",
    "    return [[4, -5, -6], [6, 5, -1], [2, 3]]"
   ]
  },
  {
   "cell_type": "code",
   "execution_count": 14,
   "id": "d292bbf0",
   "metadata": {
    "id": "d292bbf0"
   },
   "outputs": [
    {
     "name": "stdout",
     "output_type": "stream",
     "text": [
      "Tests passed.\n"
     ]
    }
   ],
   "source": [
    "# Note: we're providing these unit tests to help you. \n",
    "# The grading test is more strict for this question\n",
    "# than the unit tests here. Make sure that your answer\n",
    "# matches the description in the docstring exactly. The \n",
    "# order of your variables matters. \n",
    "assert is_cnf_formula(warmup())\n",
    "assert get_variables_in_cnf_formula(warmup()) == [1, 2, 3, 4, 5, 6]\n",
    "print('Tests passed.')"
   ]
  },
  {
   "cell_type": "code",
   "execution_count": 15,
   "id": "c39d4c9e-808f-440d-9186-231929d80a13",
   "metadata": {},
   "outputs": [
    {
     "data": {
      "text/html": [
       "<div class=\"alert alert-success\">\n",
       "        <strong>Test passed!!</strong>\n",
       "        </div>"
      ]
     },
     "metadata": {},
     "output_type": "display_data"
    },
    {
     "name": "stderr",
     "output_type": "stream",
     "text": [
      ".\n",
      "----------------------------------------------------------------------\n",
      "Ran 1 test in 0.002s\n",
      "\n",
      "OK\n"
     ]
    }
   ],
   "source": [
    "# test_6\n",
    "Grader.run_single_test_inline(TestPSet3, \"test_06\", locals())"
   ]
  },
  {
   "cell_type": "markdown",
   "id": "3360e42e",
   "metadata": {
    "id": "3360e42e"
   },
   "source": [
    "### <a name=\"dpll\"></a> 2.2 DPLL (30 points)\n",
    "\n",
    "You will now implement DPLL using the helper functions below, which you should have a look at:"
   ]
  },
  {
   "cell_type": "code",
   "execution_count": 16,
   "id": "ebc3b63e",
   "metadata": {
    "id": "ebc3b63e"
   },
   "outputs": [],
   "source": [
    "def clause_is_determined(clause: list[int], partial_assignment: dict[int, bool]) -> bool:\n",
    "    \"\"\"Checks whether all variables in the clause have an assignment.\n",
    "\n",
    "    Args:\n",
    "      clause: A list of nonzero ints.\n",
    "      partial_assignment: A dict of variables (ints) to values (bools).\n",
    "\n",
    "    Returns:\n",
    "      is_determined: True if all variables in the clause appear in\n",
    "        partial_assignment.\n",
    "    \"\"\"\n",
    "    for literal in clause:\n",
    "        if not (literal in partial_assignment or\n",
    "                -literal in partial_assignment):\n",
    "            return False\n",
    "    return True\n",
    "\n",
    "\n",
    "def literal_is_satisfied(literal: int, partial_assignment: dict[int, bool]) -> bool:\n",
    "    \"\"\"Checks whether the literal is satisfied by the assignment.\n",
    "\n",
    "    Args:\n",
    "      literal: A nonzero int.\n",
    "      partial_assignment: A dict of variables (ints) to values (bools).\n",
    "\n",
    "    Returns:\n",
    "      is_satisfied: True if the literal's variable appears in the\n",
    "        partial_assignment, with a sign matching the literal.\n",
    "    \"\"\"\n",
    "    variable, val = lit_to_var_val(literal)\n",
    "    return variable in partial_assignment and partial_assignment[variable] == val\n",
    "\n",
    "\n",
    "def clause_is_satisfied(clause: list[int], partial_assignment: dict[int, bool]) -> bool:\n",
    "    \"\"\"Checks whether the clause is satisfied by the assignment.\n",
    "\n",
    "    Args:\n",
    "      clause: A list of nonzero ints.\n",
    "      partial_assignment: A dict of variables (ints) to values (bools).\n",
    "\n",
    "    Returns:\n",
    "      is_satisfied: True if some literal in the clause is satisfied.\n",
    "    \"\"\"\n",
    "    for literal in clause:\n",
    "        if literal_is_satisfied(literal, partial_assignment):\n",
    "            return True\n",
    "    return False\n",
    "\n",
    "\n",
    "def find_pure_variable(\n",
    "    cnf_formula: list,\n",
    "    variables: list[int],\n",
    "    partial_assignment: dict[int, bool] | None) -> tuple[int | None, bool | None]:\n",
    "    \"\"\"Helper for DPLL.\n",
    "\n",
    "    A variable is pure if it has the same sign in all unsatisfied clauses\n",
    "    and if it is not already assigned.\n",
    "\n",
    "    If a pure variable exists, this function returns the variable and value\n",
    "    corresponding to the literal. (If multiple exist, return an arbitrary one.)\n",
    "\n",
    "    If no pure variables exist, return (None, None).\n",
    "\n",
    "    Args:\n",
    "      cnf_formula: A list of lists of nonzero integers representing a CNF formula,\n",
    "        with sign indicating whether the variable is negated.\n",
    "      variables: A list of positive integers.\n",
    "      partial_assignment: A dict mapping positive integers to bools, or None for\n",
    "        an empty assignment.\n",
    "\n",
    "    Returns:\n",
    "      variable : A positive integer or None.\n",
    "      value: A bool or None.\n",
    "    \"\"\"\n",
    "    candidate_to_possible_values  = {v : {True, False} for v in variables \\\n",
    "                                    if v not in partial_assignment}\n",
    "    for clause in cnf_formula:\n",
    "        if clause_is_satisfied(clause, partial_assignment):\n",
    "            continue\n",
    "        for literal in clause:\n",
    "            variable, value = lit_to_var_val(literal)\n",
    "            if variable in candidate_to_possible_values:\n",
    "                candidate_to_possible_values[variable].discard(not value)\n",
    "    for candidate, possible_values in candidate_to_possible_values.items():\n",
    "        if possible_values:\n",
    "            value = next(iter(possible_values))\n",
    "            return candidate, value\n",
    "    return None, None\n",
    "\n",
    "\n",
    "def find_unit_clause(\n",
    "        cnf_formula: list,\n",
    "        partial_assignment: dict[int, bool] | None) -> tuple[int | None, bool | None]:\n",
    "\n",
    "    \"\"\"Helper for DPLL.\n",
    "\n",
    "    A clause is a unit clause if all literals but one are already assigned to\n",
    "    False. If a unit clause exists, this function returns the variable and value\n",
    "    corresponding to the literal. (If multiple exist, return an arbitrary one.)\n",
    "\n",
    "    Args:\n",
    "      cnf_formula: A list of lists of nonzero integers representing a CNF formula,\n",
    "        with sign indicating whether the variable is negated.\n",
    "      variables: A list of positive integers.\n",
    "      partial_assignment: A dict mapping positive integers to bools, or None for\n",
    "        an empty assignment.\n",
    "\n",
    "    Returns:\n",
    "      variable : A positive integer or None.\n",
    "      value: A bool or None.\n",
    "    \"\"\"\n",
    "    for clause in cnf_formula:\n",
    "        unassigned_literal = None\n",
    "        is_unit_clause = True\n",
    "        for literal in clause:\n",
    "            # If the literal is true in the assignment, this is not a unit clause\n",
    "            if literal_is_satisfied(literal, partial_assignment):\n",
    "                is_unit_clause = False\n",
    "                break\n",
    "            # If the literal is false in the assignment, this could be a unit clause\n",
    "            elif literal in partial_assignment:\n",
    "                continue\n",
    "            # If there is already an unassigned literal, this is not a unit clause\n",
    "            elif not (unassigned_literal is None):\n",
    "                is_unit_clause = False\n",
    "                break\n",
    "            else:\n",
    "                unassigned_literal = literal\n",
    "        if is_unit_clause and not (unassigned_literal is None):\n",
    "            return lit_to_var_val(unassigned_literal)\n",
    "    return None, None"
   ]
  },
  {
   "cell_type": "markdown",
   "id": "b7f696ec-9222-4f1b-9d3c-51c2a134aace",
   "metadata": {},
   "source": [
    "Complete an implementation of DPLL, which takes a `cnf_formula` and finds a satisfying assignment of variables.\n",
    "\n",
    "For reference, our solution is **62** line(s) of code.\n",
    "\n",
    "<div class=\"alert alert-info\">\n",
    "Complete the code for `run_inference_dpll` below.\n",
    "</div>"
   ]
  },
  {
   "cell_type": "code",
   "execution_count": 17,
   "id": "26c249c7",
   "metadata": {
    "id": "26c249c7"
   },
   "outputs": [],
   "source": [
    "def run_inference_dpll(cnf_formula: list) -> tuple[bool, dict[int, bool] | None]:\n",
    "    \"\"\"Find a satisfying assignment for a propositional CNF formula with DPLL.\n",
    "\n",
    "    Args:\n",
    "      cnf_formula: A list of lists of nonzero integers representing a CNF formula,\n",
    "        with sign indicating whether the variable is negated.\n",
    "\n",
    "    Returns:\n",
    "      satisfiable: A bool indicating whether some satisfying assignment exists.\n",
    "      assignment: A dict mapping positive integers to bools, or None if no\n",
    "        satisfying assignment exists.\n",
    "\n",
    "    Examples:\n",
    "      >> run_inference_dpll([[1, -2], [-1, -2]])\n",
    "      >> (True, {1: True, 2: False}))\n",
    "\n",
    "      >> run_inference_dpll([[1], [-1]])\n",
    "      >> (False, None)\n",
    "    \"\"\"\n",
    "    \n",
    "    # raise NotImplementedError()\n",
    "\n",
    "    variables = get_variables_in_cnf_formula(cnf_formula)\n",
    "\n",
    "    def unsatisfied_clause_exists(assignment: dict[int, bool]) -> bool:\n",
    "        for clause in cnf_formula:\n",
    "            if clause_is_determined(clause, assignment) and not clause_is_satisfied(clause, assignment):\n",
    "                return True\n",
    "        return False\n",
    "\n",
    "    def all_clauses_satisfied(assignment: dict[int, bool]) -> bool:\n",
    "        for clause in cnf_formula:\n",
    "            if not clause_is_satisfied(clause, assignment):\n",
    "                return False\n",
    "        return True\n",
    "\n",
    "    def pick_unassigned_var(assignment: dict[int, bool]) -> int | None:\n",
    "        for v in variables:\n",
    "            if v not in assignment:\n",
    "                return v\n",
    "        return None\n",
    "\n",
    "    def assign(assignment: dict[int, bool], var: int, val: bool) -> dict[int, bool]:\n",
    "        new_asn = dict(assignment)\n",
    "        new_asn[var] = val\n",
    "        return new_asn\n",
    "\n",
    "    def dpll(assignment: dict[int, bool]) -> tuple[bool, dict[int, bool] | None]:\n",
    "        if unsatisfied_clause_exists(assignment):\n",
    "            return False, None\n",
    "\n",
    "        while True:\n",
    "            v, val = find_unit_clause(cnf_formula, assignment)\n",
    "            if v is None:\n",
    "                break\n",
    "            assignment = assign(assignment, v, val)\n",
    "            if unsatisfied_clause_exists(assignment):\n",
    "                return False, None\n",
    "\n",
    "        while True:\n",
    "            v, val = find_pure_variable(cnf_formula, variables, assignment)\n",
    "            if v is None:\n",
    "                break\n",
    "            assignment = assign(assignment, v, val)\n",
    "            if unsatisfied_clause_exists(assignment):\n",
    "                return False, None\n",
    "\n",
    "        if all_clauses_satisfied(assignment):\n",
    "            return True, assignment\n",
    "\n",
    "        v = pick_unassigned_var(assignment)\n",
    "        if v is None:\n",
    "            return False, None\n",
    "\n",
    "        sat, asn = dpll(assign(assignment, v, True))\n",
    "        if sat:\n",
    "            return True, asn\n",
    "        return dpll(assign(assignment, v, False))\n",
    "\n",
    "    sat, asn = dpll({})\n",
    "    if sat:\n",
    "        return True, asn\n",
    "    return False, None"
   ]
  },
  {
   "cell_type": "code",
   "execution_count": 18,
   "id": "5d313f42",
   "metadata": {
    "id": "5d313f42"
   },
   "outputs": [
    {
     "name": "stdout",
     "output_type": "stream",
     "text": [
      "Tests passed.\n"
     ]
    }
   ],
   "source": [
    "# Note: we're providing these unit tests to help you. \n",
    "# The grading tests are not just these tests.\n",
    "\n",
    "assert run_inference_dpll([]) == (True, {})\n",
    "assert run_inference_dpll([[1]]) == (True, {1: True})\n",
    "assert run_inference_dpll([[-1]]) == (True, {1: False})\n",
    "assert run_inference_dpll([[1, 2]]) in [(True, {1: True, 2: True}), (True, {1: True, 2: False}), (True, {1: False, 2: True})]\n",
    "print('Tests passed.')"
   ]
  },
  {
   "cell_type": "code",
   "execution_count": 19,
   "id": "be265728-be63-4a4d-9cf6-dde4210ce9d9",
   "metadata": {},
   "outputs": [
    {
     "data": {
      "text/html": [
       "<div class=\"alert alert-success\">\n",
       "        <strong>Test passed!!</strong>\n",
       "        </div>"
      ]
     },
     "metadata": {},
     "output_type": "display_data"
    },
    {
     "name": "stderr",
     "output_type": "stream",
     "text": [
      ".\n",
      "----------------------------------------------------------------------\n",
      "Ran 1 test in 0.002s\n",
      "\n",
      "OK\n"
     ]
    }
   ],
   "source": [
    "# test_7\n",
    "Grader.run_single_test_inline(TestPSet3, \"test_07\", locals())"
   ]
  },
  {
   "cell_type": "markdown",
   "id": "53f981f0",
   "metadata": {
    "id": "53f981f0"
   },
   "source": [
    "## <a name=\"stateest\"></a> 3. Logic for State Estimation (35 points)\n",
    "\n",
    "Let us turn our attention to a \"search and rescue\" robot who is charged with navigating a sometimes dangerous grid to find and help people in need. Assume a partially observable domain, consider the subproblem of inferring what locations in a grid contain smoke or fire based on a limited set of observations and our knowledge about the relationship between smoke and fire."
   ]
  },
  {
   "cell_type": "markdown",
   "id": "3b2e293d",
   "metadata": {
    "id": "3b2e293d"
   },
   "source": [
    "### <a name=\"sympy1\"></a> 3.1 Sympy warmup (5 points)\n",
    "\n",
    "We're going to be using the sympy package, so let's warm up and check our understanding. \n",
    "\n",
    "Use sympy to determine whether the following formula is satisfiable:\n",
    "$(\\neg x_1 \\land x_2) \\Rightarrow ((x_2 \\lor x_3) \\land (x_1 \\lor \\neg x_3))$. You will need to create the formula and then use sympy to check if it is satisfiable. \n",
    "\n",
    "Note that you should return two things: a **bool** and the sympy formula you create.\n",
    "\n",
    "For reference, our solution is **3** line(s) of code."
   ]
  },
  {
   "cell_type": "code",
   "execution_count": 20,
   "id": "fdc4278e",
   "metadata": {
    "id": "fdc4278e"
   },
   "outputs": [],
   "source": [
    "def formula1_is_satisfiable() -> tuple[bool, sympy.Basic]:\n",
    "    \"\"\"Determines whether the above formula is satisfiable.\n",
    "\n",
    "    Returns:\n",
    "      is_satisfiable: A bool indicating whether the formula is satisfiable.\n",
    "      formula: the sympy formula that you create.\n",
    "    \"\"\"\n",
    "    # raise NotImplementedError()\n",
    "    x1, x2, x3 = sympy.symbols('x1 x2 x3')\n",
    "    formula = sympy.Implies(sympy.And(sympy.Not(x1), x2),\n",
    "                            sympy.And(sympy.Or(x2, x3), sympy.Or(x1, sympy.Not(x3))))\n",
    "    is_satisfiable = bool(sympy.satisfiable(formula))\n",
    "    return is_satisfiable, formula\n"
   ]
  },
  {
   "cell_type": "code",
   "execution_count": 21,
   "id": "6f0bd471-c303-4cc4-a3d6-d086b7b3674c",
   "metadata": {},
   "outputs": [
    {
     "data": {
      "text/html": [
       "<div class=\"alert alert-success\">\n",
       "        <strong>Test passed!!</strong>\n",
       "        </div>"
      ]
     },
     "metadata": {},
     "output_type": "display_data"
    },
    {
     "name": "stderr",
     "output_type": "stream",
     "text": [
      ".\n",
      "----------------------------------------------------------------------\n",
      "Ran 1 test in 0.038s\n",
      "\n",
      "OK\n"
     ]
    }
   ],
   "source": [
    "# test_8\n",
    "Grader.run_single_test_inline(TestPSet3, \"test_08\", locals())"
   ]
  },
  {
   "cell_type": "markdown",
   "id": "ef93991e",
   "metadata": {
    "id": "ef93991e"
   },
   "source": [
    "### <a name=\"sympy2\"></a> 3.2 Sympy Warmup 2 (5 points)\n",
    "\n",
    "Use sympy to determine whether the following formula is satisfiable:\n",
    "$(x_1 \\lor x_2) \\land (\\neg x_1 \\lor \\neg x_2) \\land (x_1 \\lor \\neg x_2) \\land (\\neg x_1 \\lor x_2)$. As before, you will need to create the formula and then use sympy to check if it is satisfiable. \n",
    "\n",
    "For reference, our solution is **3** line(s) of code."
   ]
  },
  {
   "cell_type": "code",
   "execution_count": 22,
   "id": "160394c6",
   "metadata": {
    "id": "160394c6"
   },
   "outputs": [],
   "source": [
    "def formula2_is_satisfiable() -> tuple[bool, sympy.Basic]:\n",
    "    \"\"\"Determines whether the above formula is satisfiable.\n",
    "\n",
    "    Returns:\n",
    "      is_satisfiable: A bool indicating whether the formula is satisfiable.\n",
    "      formula: the sympy formula that you create.\n",
    "    \"\"\"\n",
    "    # raise NotImplementedError()\n",
    "    x1, x2 = sympy.symbols('x1 x2')\n",
    "    formula = sympy.And(\n",
    "        sympy.Or(x1, x2),\n",
    "        sympy.Or(sympy.Not(x1), sympy.Not(x2)),\n",
    "        sympy.Or(x1, sympy.Not(x2)),\n",
    "        sympy.Or(sympy.Not(x1), x2),\n",
    "    )\n",
    "    is_satisfiable = bool(sympy.satisfiable(formula))\n",
    "    return is_satisfiable, formula"
   ]
  },
  {
   "cell_type": "code",
   "execution_count": 23,
   "id": "a20c9a73-9ee4-4570-a806-35f33c6cd286",
   "metadata": {},
   "outputs": [
    {
     "data": {
      "text/html": [
       "<div class=\"alert alert-success\">\n",
       "        <strong>Test passed!!</strong>\n",
       "        </div>"
      ]
     },
     "metadata": {},
     "output_type": "display_data"
    },
    {
     "name": "stderr",
     "output_type": "stream",
     "text": [
      ".\n",
      "----------------------------------------------------------------------\n",
      "Ran 1 test in 0.003s\n",
      "\n",
      "OK\n"
     ]
    }
   ],
   "source": [
    "# test_9\n",
    "Grader.run_single_test_inline(TestPSet3, \"test_09\", locals())"
   ]
  },
  {
   "cell_type": "markdown",
   "id": "7a47d7c2",
   "metadata": {
    "id": "7a47d7c2"
   },
   "source": [
    "### <a name=\"searchrescue\"></a> 3.3 Search and Rescue Inference (25 points)\n",
    "\n",
    "Now, we will look at the actual inference problem that we are interested in. We will consider several problems with varying grid sizes and different sets of observations. For example, consider the grid below:\n",
    "```\n",
    "# Fire, Unknown, Clear, Smoke\n",
    "GRID0 = np.array([\n",
    "  [\"F\", \"U\", \"C\"],\n",
    "  [\"S\", \"C\", \"U\"],\n",
    "  [\"U\", \"U\", \"C\"]\n",
    "], dtype=object)\n",
    "```\n",
    "This grid has 9 locations and 5 observations: there is fire in the top left, smoke below it, and the center, top right, and bottom right locations are all known to be clear of smoke or fire.\n",
    "\n",
    "We will assume the following axioms:\n",
    "1. Each location has exactly one of {smoke, fire, clear}.\n",
    "2. There is smoke at a location if and only if there is a fire in at least one of the adjacent (above, below, left, right) locations. Diagonals are not adjacent!\n",
    "\n",
    "Note that as a corollary, there cannot be two fires in adjacent locations. Take a moment to run your human inference engine: which unknown values in the grid above can be determined?\n",
    "\n",
    "Now, write a program that takes a grid as input and infers unknown values. Your program should output a new grid with all determinable unknown values replaced with the inferred value. If an unknown value cannot be determined, it should be left unknown.\n",
    "\n",
    "**Your program should use sympy.**\n",
    "\n",
    "\n",
    "For reference, our solution is **57** line(s) of code."
   ]
  },
  {
   "cell_type": "code",
   "execution_count": 24,
   "id": "81059f73",
   "metadata": {
    "id": "81059f73"
   },
   "outputs": [],
   "source": [
    "def infer_unknown_values(grid: list) -> list:\n",
    "    \"\"\"Fill in any unknown values in the grid that can be inferred.\n",
    "\n",
    "    Args:\n",
    "      grid: A list of lists of \"F\", \"U\", \"S\", or \"C\".\n",
    "\n",
    "    Returns:\n",
    "      inferred_grid: A copy of grid with some unknown values replaced.\n",
    "\n",
    "    Example:\n",
    "      >> grid = [\n",
    "      >>   [\"F\", \"U\", \"C\"],\n",
    "      >>   [\"S\", \"C\", \"U\"],\n",
    "      >>   [\"U\", \"U\", \"C\"]\n",
    "      >> ]\n",
    "      >> infer_unknown_values(grid)\n",
    "      >> [[\"F\" \"S\" \"C\"]\n",
    "      >>  [\"S\" \"C\" \"C\"]\n",
    "      >>  [\"U\" \"U\" \"C\"]]\n",
    "    \"\"\"\n",
    "    # raise NotImplementedError()\n",
    "\n",
    "    rows = len(grid)\n",
    "    cols = len(grid[0]) if rows else 0\n",
    "\n",
    "    F = {}\n",
    "    S = {}\n",
    "    C = {}\n",
    "    for i in range(rows):\n",
    "        for j in range(cols):\n",
    "            F[(i, j)] = sympy.symbols(f'F_{i}_{j}')\n",
    "            S[(i, j)] = sympy.symbols(f'S_{i}_{j}')\n",
    "            C[(i, j)] = sympy.symbols(f'C_{i}_{j}')\n",
    "\n",
    "    def neighbors(i, j):\n",
    "        for di, dj in [(-1,0),(1,0),(0,-1),(0,1)]:\n",
    "            ni, nj = i+di, j+dj\n",
    "            if 0 <= ni < rows and 0 <= nj < cols:\n",
    "                yield (ni, nj)\n",
    "\n",
    "    constraints = []\n",
    "\n",
    "    for i in range(rows):\n",
    "        for j in range(cols):\n",
    "            s, f, c = S[(i, j)], F[(i, j)], C[(i, j)]\n",
    "            constraints.append(sympy.Or(s, f, c))\n",
    "            constraints.append(sympy.Not(sympy.And(s, f)))\n",
    "            constraints.append(sympy.Not(sympy.And(s, c)))\n",
    "            constraints.append(sympy.Not(sympy.And(f, c)))\n",
    "\n",
    "    for i in range(rows):\n",
    "        for j in range(cols):\n",
    "            adj_fires = [F[n] for n in neighbors(i, j)]\n",
    "            rhs = sympy.Or(*adj_fires) if adj_fires else sympy.false\n",
    "            constraints.append(sympy.Equivalent(S[(i, j)], rhs))\n",
    "\n",
    "    for i in range(rows):\n",
    "        for j in range(cols):\n",
    "            val = grid[i][j]\n",
    "            if val == 'F':\n",
    "                constraints.append(F[(i, j)])\n",
    "            elif val == 'S':\n",
    "                constraints.append(S[(i, j)])\n",
    "            elif val == 'C':\n",
    "                constraints.append(C[(i, j)])\n",
    "            else:  # 'U' -> no direct observation\n",
    "                pass\n",
    "\n",
    "    base_formula = sympy.And(*constraints) if constraints else sympy.true\n",
    "\n",
    "    def entailed(lit: sympy.Basic) -> bool:\n",
    "        return not sympy.satisfiable(sympy.And(base_formula, sympy.Not(lit)))\n",
    "\n",
    "    out = [row[:] for row in grid]\n",
    "    for i in range(rows):\n",
    "        for j in range(cols):\n",
    "            if grid[i][j] != 'U':\n",
    "                continue\n",
    "            if entailed(F[(i, j)]):\n",
    "                out[i][j] = 'F'\n",
    "            elif entailed(S[(i, j)]):\n",
    "                out[i][j] = 'S'\n",
    "            elif entailed(C[(i, j)]):\n",
    "                out[i][j] = 'C'\n",
    "            else:\n",
    "                out[i][j] = 'U'\n",
    "    return out"
   ]
  },
  {
   "cell_type": "code",
   "execution_count": 25,
   "id": "82883f33",
   "metadata": {
    "id": "82883f33"
   },
   "outputs": [
    {
     "name": "stdout",
     "output_type": "stream",
     "text": [
      "Tests passed.\n"
     ]
    }
   ],
   "source": [
    "# Note: we're providing these unit tests to help you. \n",
    "# The grading tests are not just these tests.\n",
    "\n",
    "assert infer_unknown_values([[\"U\", \"F\"]]) == [[\"S\", \"F\"]]\n",
    "assert infer_unknown_values([[\"F\", \"U\", \"C\"], [\"S\", \"C\", \"U\"], [\"U\", \"U\", \"C\"]]) == [[\"F\", \"S\", \"C\"], [\"S\", \"C\", \"C\"], [\"U\", \"U\", \"C\"]]\n",
    "print('Tests passed.')"
   ]
  },
  {
   "cell_type": "code",
   "execution_count": 26,
   "id": "353fe8a9-7ee8-4d3f-9d39-4012210dd4d0",
   "metadata": {},
   "outputs": [
    {
     "data": {
      "text/html": [
       "<div class=\"alert alert-success\">\n",
       "        <strong>Test passed!!</strong>\n",
       "        </div>"
      ]
     },
     "metadata": {},
     "output_type": "display_data"
    },
    {
     "name": "stderr",
     "output_type": "stream",
     "text": [
      ".\n",
      "----------------------------------------------------------------------\n",
      "Ran 1 test in 3.152s\n",
      "\n",
      "OK\n"
     ]
    }
   ],
   "source": [
    "# test_10\n",
    "Grader.run_single_test_inline(TestPSet3, \"test_10\", locals())"
   ]
  },
  {
   "cell_type": "markdown",
   "id": "1b561782",
   "metadata": {},
   "source": [
    "## <a name=\"part4\"></a> Time Spent on Pset (5 points)\n",
    "\n",
    "Please use [this form](https://forms.gle/MAwS9EmhGRCJY3jH6) to tell us how long you spent on this pset. After you submit the form, the form will give you a confirmation word. Please enter that confirmation word below to get an extra 5 points. "
   ]
  },
  {
   "cell_type": "code",
   "execution_count": 27,
   "id": "c7ce5556",
   "metadata": {},
   "outputs": [],
   "source": [
    "form_confirmation_word = \"Ciulama\""
   ]
  },
  {
   "cell_type": "code",
   "execution_count": 28,
   "id": "e37628cf",
   "metadata": {},
   "outputs": [
    {
     "data": {
      "text/html": [
       "<div class=\"alert alert-success\">\n",
       "        <strong>Test passed!!</strong>\n",
       "        </div>"
      ]
     },
     "metadata": {},
     "output_type": "display_data"
    },
    {
     "data": {
      "text/html": [
       "<div class=\"alert alert-success\">\n",
       "        <strong>Test passed!!</strong>\n",
       "        </div>"
      ]
     },
     "metadata": {},
     "output_type": "display_data"
    },
    {
     "data": {
      "text/html": [
       "<div class=\"alert alert-success\">\n",
       "        <strong>Test passed!!</strong>\n",
       "        </div>"
      ]
     },
     "metadata": {},
     "output_type": "display_data"
    },
    {
     "data": {
      "text/html": [
       "<div class=\"alert alert-success\">\n",
       "        <strong>Test passed!!</strong>\n",
       "        </div>"
      ]
     },
     "metadata": {},
     "output_type": "display_data"
    },
    {
     "data": {
      "text/html": [
       "<div class=\"alert alert-success\">\n",
       "        <strong>Test passed!!</strong>\n",
       "        </div>"
      ]
     },
     "metadata": {},
     "output_type": "display_data"
    },
    {
     "data": {
      "text/html": [
       "<div class=\"alert alert-success\">\n",
       "        <strong>Test passed!!</strong>\n",
       "        </div>"
      ]
     },
     "metadata": {},
     "output_type": "display_data"
    },
    {
     "data": {
      "text/html": [
       "<div class=\"alert alert-success\">\n",
       "        <strong>Test passed!!</strong>\n",
       "        </div>"
      ]
     },
     "metadata": {},
     "output_type": "display_data"
    },
    {
     "data": {
      "text/html": [
       "<div class=\"alert alert-success\">\n",
       "        <strong>Test passed!!</strong>\n",
       "        </div>"
      ]
     },
     "metadata": {},
     "output_type": "display_data"
    },
    {
     "data": {
      "text/html": [
       "<div class=\"alert alert-success\">\n",
       "        <strong>Test passed!!</strong>\n",
       "        </div>"
      ]
     },
     "metadata": {},
     "output_type": "display_data"
    },
    {
     "data": {
      "text/html": [
       "<div class=\"alert alert-success\">\n",
       "        <strong>Test passed!!</strong>\n",
       "        </div>"
      ]
     },
     "metadata": {},
     "output_type": "display_data"
    },
    {
     "name": "stdout",
     "output_type": "stream",
     "text": [
      "Total score is 105/105.\n",
      "\n",
      "Score for test_01 (principles_of_autonomy.notebook_tests.pset_3.TestPSet3) is 5/5.\n",
      "\n",
      "Score for test_02 (principles_of_autonomy.notebook_tests.pset_3.TestPSet3) is 5/5.\n",
      "\n",
      "Score for test_03 (principles_of_autonomy.notebook_tests.pset_3.TestPSet3) is 5/5.\n",
      "\n",
      "Score for test_04 (principles_of_autonomy.notebook_tests.pset_3.TestPSet3) is 5/5.\n",
      "\n",
      "Score for test_05 (principles_of_autonomy.notebook_tests.pset_3.TestPSet3) is 10/10.\n",
      "\n",
      "Score for test_06 (principles_of_autonomy.notebook_tests.pset_3.TestPSet3) is 5/5.\n",
      "\n",
      "Score for test_07 (principles_of_autonomy.notebook_tests.pset_3.TestPSet3) is 30/30.\n",
      "\n",
      "Score for test_08 (principles_of_autonomy.notebook_tests.pset_3.TestPSet3) is 5/5.\n",
      "\n",
      "Score for test_09 (principles_of_autonomy.notebook_tests.pset_3.TestPSet3) is 5/5.\n",
      "\n",
      "Score for test_10 (principles_of_autonomy.notebook_tests.pset_3.TestPSet3) is 25/25.\n",
      "\n",
      "Score for test_11_form_word (principles_of_autonomy.notebook_tests.pset_3.TestPSet3) is 5/5.\n"
     ]
    }
   ],
   "source": [
    "# Run all tests\n",
    "Grader.grade_output([TestPSet3], [locals()], \"results.json\")\n",
    "Grader.print_test_results(\"results.json\")"
   ]
  },
  {
   "cell_type": "code",
   "execution_count": 29,
   "id": "92223926",
   "metadata": {},
   "outputs": [
    {
     "name": "stdout",
     "output_type": "stream",
     "text": [
      "Open-ended responses written to ProblemSet03_Logic_release_responses_only.ipynb\n",
      "Compressed files in folder to ../ps3/ps3.zip (submit this to Gradescope)\n"
     ]
    }
   ],
   "source": [
    "# Make sure you save the notebook before running this cell so that the most updated version is zipped!\n",
    "Grader.prepare_submission(\"ProblemSet03_Logic_release\")"
   ]
  },
  {
   "cell_type": "code",
   "execution_count": null,
   "id": "536bc770-5448-40e0-a924-7c2bfdc19496",
   "metadata": {},
   "outputs": [],
   "source": []
  }
 ],
 "metadata": {
  "colab": {
   "name": "hw04.ipynb",
   "provenance": []
  },
  "kernelspec": {
   "display_name": "mit",
   "language": "python",
   "name": "python3"
  },
  "language_info": {
   "codemirror_mode": {
    "name": "ipython",
    "version": 3
   },
   "file_extension": ".py",
   "mimetype": "text/x-python",
   "name": "python",
   "nbconvert_exporter": "python",
   "pygments_lexer": "ipython3",
   "version": "3.13.7"
  }
 },
 "nbformat": 4,
 "nbformat_minor": 5
}
