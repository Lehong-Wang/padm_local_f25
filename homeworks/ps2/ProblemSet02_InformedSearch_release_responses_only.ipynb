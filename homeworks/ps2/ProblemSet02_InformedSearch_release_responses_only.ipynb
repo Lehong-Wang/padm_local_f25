{
 "cells": [
  {
   "cell_type": "markdown",
   "id": "5d1b7be5",
   "metadata": {},
   "source": [
    "## <a name=\"contributors\"></a> 0. Credit for Contributors\n",
    "\n",
    "List the various students, lecture notes, or online resouces that helped you complete this problem set:\n",
    "\n",
    "Ex: I worked with Bob on the cat activity planning problem.\n",
    "\n",
    "<div class=\"alert alert-info\">\n",
    "Write your answer in the cell below this one.\n",
    "</div>"
   ]
  },
  {
   "cell_type": "markdown",
   "id": "ea3c85a7",
   "metadata": {},
   "source": [
    "Looked at lecture notes and asked chatGPT for help with understanding concepts."
   ]
  },
  {
   "cell_type": "markdown",
   "id": "9b23907a",
   "metadata": {},
   "source": [
    "#### <a name=\"greedy_explanation\"></a>Explain why the path returned by Greedy search is worse\n",
    "\n",
    "<div class=\"alert alert-info\">\n",
    "Write your answer in the cell below this one.\n",
    "</div>"
   ]
  },
  {
   "cell_type": "markdown",
   "id": "e9bfb8ce",
   "metadata": {
    "nbgrader": {
     "grade": true,
     "grade_id": "worse_greedy_explanation",
     "locked": false,
     "points": 5,
     "schema_version": 3,
     "solution": true
    }
   },
   "source": [
    "Because greedy search is more simlar to depth first search than breth first search. So, if there is an obstacle, it won't consider it until it reaches the obstacle, meaning there is more detours taken compared to A*, which performs more similar to BFS and always gave the best answer."
   ]
  }
 ],
 "metadata": {},
 "nbformat": 4,
 "nbformat_minor": 5
}
